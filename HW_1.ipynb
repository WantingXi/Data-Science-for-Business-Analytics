{
  "nbformat": 4,
  "nbformat_minor": 0,
  "metadata": {
    "kernelspec": {
      "display_name": "Python 3",
      "language": "python",
      "name": "python3"
    },
    "language_info": {
      "codemirror_mode": {
        "name": "ipython",
        "version": 3
      },
      "file_extension": ".py",
      "mimetype": "text/x-python",
      "name": "python",
      "nbconvert_exporter": "python",
      "pygments_lexer": "ipython3",
      "version": "3.6.9"
    },
    "colab": {
      "name": "Copy of HW 1.ipynb",
      "provenance": [],
      "collapsed_sections": [],
      "toc_visible": true
    }
  },
  "cells": [
    {
      "cell_type": "markdown",
      "metadata": {
        "id": "KAosElz8vZ4Q",
        "colab_type": "text"
      },
      "source": [
        "To open notebook in Colab please click below:\n",
        "\n",
        "<a href=\"https://colab.research.google.com/github/bwolfson2/foster_2020/blob/master/Homeworks/HW%201.ipynb\" target=\"_parent\"> <img src=\"https://colab.research.google.com/assets/colab-badge.svg\" alt=\"Open In Colab\" /> </a>'"
      ]
    },
    {
      "cell_type": "code",
      "metadata": {
        "scrolled": true,
        "id": "17nWXITqvZ4T",
        "colab_type": "code",
        "outputId": "e2a98439-55ae-4fbf-99d8-bd692e6babd9",
        "colab": {
          "base_uri": "https://localhost:8080/",
          "height": 170
        }
      },
      "source": [
        "#If opening in colab run this cell\n",
        "!git clone https://github.com/bwolfson2/foster_2020\n",
        "%cd foster_2020/Homeworks/"
      ],
      "execution_count": 1,
      "outputs": [
        {
          "output_type": "stream",
          "text": [
            "Cloning into 'foster_2020'...\n",
            "remote: Enumerating objects: 92, done.\u001b[K\n",
            "remote: Counting objects: 100% (92/92), done.\u001b[K\n",
            "remote: Compressing objects: 100% (80/80), done.\u001b[K\n",
            "remote: Total 201 (delta 17), reused 81 (delta 7), pack-reused 109\u001b[K\n",
            "Receiving objects: 100% (201/201), 54.10 MiB | 21.09 MiB/s, done.\n",
            "Resolving deltas: 100% (56/56), done.\n",
            "Checking out files: 100% (94/94), done.\n",
            "/content/foster_2020/Homeworks\n"
          ],
          "name": "stdout"
        }
      ]
    },
    {
      "cell_type": "markdown",
      "metadata": {
        "id": "vBJZ5x48vZ4Y",
        "colab_type": "text"
      },
      "source": [
        "# Homework 1"
      ]
    },
    {
      "cell_type": "markdown",
      "metadata": {
        "id": "BbTXRsgrvZ4a",
        "colab_type": "text"
      },
      "source": [
        "## Part 1: Conceptual exercises"
      ]
    },
    {
      "cell_type": "markdown",
      "metadata": {
        "id": "TYnhwd-VvZ4b",
        "colab_type": "text"
      },
      "source": [
        "** 1. In 2-4 sentences, differentiate “Data Science” and “Big Data”, and also tell how they are related. **"
      ]
    },
    {
      "cell_type": "markdown",
      "metadata": {
        "id": "h1O8M_DkvZ4c",
        "colab_type": "text"
      },
      "source": [
        "Data Science refers to all things and process we need to do relateed to data, such as data cleansing, data mining, and data analysis. But Big Data just refers to the massive data. \"Data Science\" can use \"Big Data\" to do analysis. "
      ]
    },
    {
      "cell_type": "markdown",
      "metadata": {
        "id": "UDL-OuqkvZ4d",
        "colab_type": "text"
      },
      "source": [
        "** 2. MTC (MegaTelCo) has decided to use supervised learning to address its problem of churn in its wireless phone business.  As a consultant to MTC, you realize that a main task in the business understanding/data understanding phases of the data mining process is to define the target variable.  In one or two sentences, please suggest a definition for the target variable.  Be as precise as possible—someone else will be implementing your suggestion.  (Remember: it should make sense from a business point of view, and it should be reasonable that MTC would have data available to know the value of the target variable for historical customers.) **"
      ]
    },
    {
      "cell_type": "markdown",
      "metadata": {
        "id": "MUyM3i7tvZ4e",
        "colab_type": "text"
      },
      "source": [
        "Target variable means the value can be predicted by other variables using the machine learning model. In the MTC case, target variable is whether customer would leave in 90 days of the contract expires: 0(leave) or 1(still here). In this case, TV can be predicted by their last month usage in 90 days of expiration and find the pattern of people who would leave, then before 50 days of the contract ends, taking methods like ads or discount to maintain the relationship. "
      ]
    },
    {
      "cell_type": "markdown",
      "metadata": {
        "id": "GS003MVqvZ4e",
        "colab_type": "text"
      },
      "source": [
        "## Part 2: Graduate admissions case study"
      ]
    },
    {
      "cell_type": "markdown",
      "metadata": {
        "id": "NH4AbH6gvZ4f",
        "colab_type": "text"
      },
      "source": [
        "You've been hired by Hudson University as a data analyst for the Graduate Admissions Department. Since the admission process is long and tedious, it often results in a bottleneck for other subsequent tasks, such as planning the necessary resources to accommodate the admitted students (e.g. housing, classes, etc). You have been asked to build a model to predict which students will be admitted using the following historical data: \n",
        "\n",
        "1. Serial No. (serves as unique identifier)\n",
        "2. GRE Scores (out of 340) \n",
        "3. TOEFL Scores (out of 120) \n",
        "4. University Rating (out of 5).\n",
        "5. Statement of Purpose Strength (out of 5)\n",
        "6. Letter of Recommendation Strength (out of 5) \n",
        "7. Undergraduate GPA (out of 10) \n",
        "8. Research Experience (either 0 or 1) \n",
        "9. Chance of Admit (ranging from 0 to 1)\n",
        "\n",
        "The chances of admit for the applicants in your data were assessed by an expert. Given that this list of application attributes would be available early in the admission process for future applications (except for Chance of Admit), a model predicting chances of admit would allow planning tasks to start earlier."
      ]
    },
    {
      "cell_type": "code",
      "metadata": {
        "id": "QTxx_WQUvZ4g",
        "colab_type": "code",
        "colab": {}
      },
      "source": [
        "# Some libraries you may need\n",
        "import pandas as pd\n",
        "import numpy as np\n",
        "import matplotlib.pyplot as plt\n",
        "import seaborn as sns\n",
        "\n",
        "# Trick to display plots inline with the rest of your notebook.\n",
        "%matplotlib inline"
      ],
      "execution_count": 0,
      "outputs": []
    },
    {
      "cell_type": "markdown",
      "metadata": {
        "id": "990BUsXrvZ4k",
        "colab_type": "text"
      },
      "source": [
        "** 1. Load the homework data into a pandas data frame. Print the number of rows and columns in the dataset. **"
      ]
    },
    {
      "cell_type": "code",
      "metadata": {
        "id": "4d1zpDsFvZ4m",
        "colab_type": "code",
        "outputId": "a52f0292-61e1-43e6-b93d-dc7f6b22fb31",
        "colab": {
          "base_uri": "https://localhost:8080/",
          "height": 255
        }
      },
      "source": [
        "data_path = \"./data/data-hw1.csv\"\n",
        "csv_data = pd.read_csv(data_path, low_memory = False)\n",
        "df = pd.DataFrame(csv_data)\n",
        "print(df)"
      ],
      "execution_count": 3,
      "outputs": [
        {
          "output_type": "stream",
          "text": [
            "     Serial No.  GRE Score  TOEFL Score  ...  CGPA  Research  Chance of Admit\n",
            "0             1        337          118  ...  9.65         1             0.92\n",
            "1             2        324          107  ...  8.87         1             0.76\n",
            "2             3        316          104  ...  8.00         1             0.72\n",
            "3             4        322          110  ...  8.67         1             0.80\n",
            "4             5        314          103  ...  8.21         0             0.65\n",
            "..          ...        ...          ...  ...   ...       ...              ...\n",
            "495         496        332          108  ...  9.02         1             0.87\n",
            "496         497        337          117  ...  9.87         1             0.96\n",
            "497         498        330          120  ...  9.56         1             0.93\n",
            "498         499        312          103  ...  8.43         0             0.73\n",
            "499         500        327          113  ...  9.04         0             0.84\n",
            "\n",
            "[500 rows x 9 columns]\n"
          ],
          "name": "stdout"
        }
      ]
    },
    {
      "cell_type": "markdown",
      "metadata": {
        "id": "FZ6w892TvZ4r",
        "colab_type": "text"
      },
      "source": [
        "(Optional) Rename the columns in the dataframe to manipulate the data more easily. No extra points for this, but it might make your life easier."
      ]
    },
    {
      "cell_type": "code",
      "metadata": {
        "id": "pGnpAXhSvZ4s",
        "colab_type": "code",
        "outputId": "f653f434-da32-4ba6-d901-bd3ccea4cc1f",
        "colab": {
          "base_uri": "https://localhost:8080/",
          "height": 204
        }
      },
      "source": [
        "# Put your (optional) answer here.\n",
        "df = df.rename(columns={'Serial No.': 'ID'})\n",
        "df = df.rename(columns={'GRE Score': 'GRE'})\n",
        "df = df.rename(columns={'TOEFL Score': 'TOEFL'})\n",
        "df = df.rename(columns={'University Rating': 'Rating'})\n",
        "df = df.rename(columns={'Chance of Admit': 'Admit'})\n",
        "# Or this if you know the order of the columns:\n",
        "# df.columns = [\"ID\", \"GRE\", \"TOEFL\", \"Rating\", \"SOP\", \"LOR\", \"CGPA\", \"Research\", \"Admit\"]\n",
        "df.head()"
      ],
      "execution_count": 4,
      "outputs": [
        {
          "output_type": "execute_result",
          "data": {
            "text/html": [
              "<div>\n",
              "<style scoped>\n",
              "    .dataframe tbody tr th:only-of-type {\n",
              "        vertical-align: middle;\n",
              "    }\n",
              "\n",
              "    .dataframe tbody tr th {\n",
              "        vertical-align: top;\n",
              "    }\n",
              "\n",
              "    .dataframe thead th {\n",
              "        text-align: right;\n",
              "    }\n",
              "</style>\n",
              "<table border=\"1\" class=\"dataframe\">\n",
              "  <thead>\n",
              "    <tr style=\"text-align: right;\">\n",
              "      <th></th>\n",
              "      <th>ID</th>\n",
              "      <th>GRE</th>\n",
              "      <th>TOEFL</th>\n",
              "      <th>Rating</th>\n",
              "      <th>SOP</th>\n",
              "      <th>LOR</th>\n",
              "      <th>CGPA</th>\n",
              "      <th>Research</th>\n",
              "      <th>Admit</th>\n",
              "    </tr>\n",
              "  </thead>\n",
              "  <tbody>\n",
              "    <tr>\n",
              "      <th>0</th>\n",
              "      <td>1</td>\n",
              "      <td>337</td>\n",
              "      <td>118</td>\n",
              "      <td>4</td>\n",
              "      <td>4.5</td>\n",
              "      <td>4.5</td>\n",
              "      <td>9.65</td>\n",
              "      <td>1</td>\n",
              "      <td>0.92</td>\n",
              "    </tr>\n",
              "    <tr>\n",
              "      <th>1</th>\n",
              "      <td>2</td>\n",
              "      <td>324</td>\n",
              "      <td>107</td>\n",
              "      <td>4</td>\n",
              "      <td>4.0</td>\n",
              "      <td>4.5</td>\n",
              "      <td>8.87</td>\n",
              "      <td>1</td>\n",
              "      <td>0.76</td>\n",
              "    </tr>\n",
              "    <tr>\n",
              "      <th>2</th>\n",
              "      <td>3</td>\n",
              "      <td>316</td>\n",
              "      <td>104</td>\n",
              "      <td>3</td>\n",
              "      <td>3.0</td>\n",
              "      <td>3.5</td>\n",
              "      <td>8.00</td>\n",
              "      <td>1</td>\n",
              "      <td>0.72</td>\n",
              "    </tr>\n",
              "    <tr>\n",
              "      <th>3</th>\n",
              "      <td>4</td>\n",
              "      <td>322</td>\n",
              "      <td>110</td>\n",
              "      <td>3</td>\n",
              "      <td>3.5</td>\n",
              "      <td>2.5</td>\n",
              "      <td>8.67</td>\n",
              "      <td>1</td>\n",
              "      <td>0.80</td>\n",
              "    </tr>\n",
              "    <tr>\n",
              "      <th>4</th>\n",
              "      <td>5</td>\n",
              "      <td>314</td>\n",
              "      <td>103</td>\n",
              "      <td>2</td>\n",
              "      <td>2.0</td>\n",
              "      <td>3.0</td>\n",
              "      <td>8.21</td>\n",
              "      <td>0</td>\n",
              "      <td>0.65</td>\n",
              "    </tr>\n",
              "  </tbody>\n",
              "</table>\n",
              "</div>"
            ],
            "text/plain": [
              "   ID  GRE  TOEFL  Rating  SOP  LOR  CGPA  Research  Admit\n",
              "0   1  337    118       4  4.5  4.5  9.65         1   0.92\n",
              "1   2  324    107       4  4.0  4.5  8.87         1   0.76\n",
              "2   3  316    104       3  3.0  3.5  8.00         1   0.72\n",
              "3   4  322    110       3  3.5  2.5  8.67         1   0.80\n",
              "4   5  314    103       2  2.0  3.0  8.21         0   0.65"
            ]
          },
          "metadata": {
            "tags": []
          },
          "execution_count": 4
        }
      ]
    },
    {
      "cell_type": "markdown",
      "metadata": {
        "id": "oB0p_49yvZ4w",
        "colab_type": "text"
      },
      "source": [
        "** 2. Show descriptive statistics for all columns. **"
      ]
    },
    {
      "cell_type": "code",
      "metadata": {
        "scrolled": true,
        "id": "i-YAC2APvZ4x",
        "colab_type": "code",
        "outputId": "115b7a8a-de8d-4d31-ae16-5a1ffd9fcdf8",
        "colab": {
          "base_uri": "https://localhost:8080/",
          "height": 297
        }
      },
      "source": [
        "#YOUR CODE HERE\n",
        "df.describe()\n"
      ],
      "execution_count": 0,
      "outputs": [
        {
          "output_type": "execute_result",
          "data": {
            "text/html": [
              "<div>\n",
              "<style scoped>\n",
              "    .dataframe tbody tr th:only-of-type {\n",
              "        vertical-align: middle;\n",
              "    }\n",
              "\n",
              "    .dataframe tbody tr th {\n",
              "        vertical-align: top;\n",
              "    }\n",
              "\n",
              "    .dataframe thead th {\n",
              "        text-align: right;\n",
              "    }\n",
              "</style>\n",
              "<table border=\"1\" class=\"dataframe\">\n",
              "  <thead>\n",
              "    <tr style=\"text-align: right;\">\n",
              "      <th></th>\n",
              "      <th>ID</th>\n",
              "      <th>GRE</th>\n",
              "      <th>TOEFL</th>\n",
              "      <th>Rating</th>\n",
              "      <th>SOP</th>\n",
              "      <th>LOR</th>\n",
              "      <th>CGPA</th>\n",
              "      <th>Research</th>\n",
              "      <th>Admit</th>\n",
              "    </tr>\n",
              "  </thead>\n",
              "  <tbody>\n",
              "    <tr>\n",
              "      <th>count</th>\n",
              "      <td>500.000000</td>\n",
              "      <td>500.000000</td>\n",
              "      <td>500.000000</td>\n",
              "      <td>500.000000</td>\n",
              "      <td>500.000000</td>\n",
              "      <td>500.00000</td>\n",
              "      <td>500.000000</td>\n",
              "      <td>500.000000</td>\n",
              "      <td>500.00000</td>\n",
              "    </tr>\n",
              "    <tr>\n",
              "      <th>mean</th>\n",
              "      <td>250.500000</td>\n",
              "      <td>316.472000</td>\n",
              "      <td>107.192000</td>\n",
              "      <td>3.114000</td>\n",
              "      <td>3.374000</td>\n",
              "      <td>3.48400</td>\n",
              "      <td>8.576440</td>\n",
              "      <td>0.560000</td>\n",
              "      <td>0.72174</td>\n",
              "    </tr>\n",
              "    <tr>\n",
              "      <th>std</th>\n",
              "      <td>144.481833</td>\n",
              "      <td>11.295148</td>\n",
              "      <td>6.081868</td>\n",
              "      <td>1.143512</td>\n",
              "      <td>0.991004</td>\n",
              "      <td>0.92545</td>\n",
              "      <td>0.604813</td>\n",
              "      <td>0.496884</td>\n",
              "      <td>0.14114</td>\n",
              "    </tr>\n",
              "    <tr>\n",
              "      <th>min</th>\n",
              "      <td>1.000000</td>\n",
              "      <td>290.000000</td>\n",
              "      <td>92.000000</td>\n",
              "      <td>1.000000</td>\n",
              "      <td>1.000000</td>\n",
              "      <td>1.00000</td>\n",
              "      <td>6.800000</td>\n",
              "      <td>0.000000</td>\n",
              "      <td>0.34000</td>\n",
              "    </tr>\n",
              "    <tr>\n",
              "      <th>25%</th>\n",
              "      <td>125.750000</td>\n",
              "      <td>308.000000</td>\n",
              "      <td>103.000000</td>\n",
              "      <td>2.000000</td>\n",
              "      <td>2.500000</td>\n",
              "      <td>3.00000</td>\n",
              "      <td>8.127500</td>\n",
              "      <td>0.000000</td>\n",
              "      <td>0.63000</td>\n",
              "    </tr>\n",
              "    <tr>\n",
              "      <th>50%</th>\n",
              "      <td>250.500000</td>\n",
              "      <td>317.000000</td>\n",
              "      <td>107.000000</td>\n",
              "      <td>3.000000</td>\n",
              "      <td>3.500000</td>\n",
              "      <td>3.50000</td>\n",
              "      <td>8.560000</td>\n",
              "      <td>1.000000</td>\n",
              "      <td>0.72000</td>\n",
              "    </tr>\n",
              "    <tr>\n",
              "      <th>75%</th>\n",
              "      <td>375.250000</td>\n",
              "      <td>325.000000</td>\n",
              "      <td>112.000000</td>\n",
              "      <td>4.000000</td>\n",
              "      <td>4.000000</td>\n",
              "      <td>4.00000</td>\n",
              "      <td>9.040000</td>\n",
              "      <td>1.000000</td>\n",
              "      <td>0.82000</td>\n",
              "    </tr>\n",
              "    <tr>\n",
              "      <th>max</th>\n",
              "      <td>500.000000</td>\n",
              "      <td>340.000000</td>\n",
              "      <td>120.000000</td>\n",
              "      <td>5.000000</td>\n",
              "      <td>5.000000</td>\n",
              "      <td>5.00000</td>\n",
              "      <td>9.920000</td>\n",
              "      <td>1.000000</td>\n",
              "      <td>0.97000</td>\n",
              "    </tr>\n",
              "  </tbody>\n",
              "</table>\n",
              "</div>"
            ],
            "text/plain": [
              "               ID         GRE       TOEFL  ...        CGPA    Research      Admit\n",
              "count  500.000000  500.000000  500.000000  ...  500.000000  500.000000  500.00000\n",
              "mean   250.500000  316.472000  107.192000  ...    8.576440    0.560000    0.72174\n",
              "std    144.481833   11.295148    6.081868  ...    0.604813    0.496884    0.14114\n",
              "min      1.000000  290.000000   92.000000  ...    6.800000    0.000000    0.34000\n",
              "25%    125.750000  308.000000  103.000000  ...    8.127500    0.000000    0.63000\n",
              "50%    250.500000  317.000000  107.000000  ...    8.560000    1.000000    0.72000\n",
              "75%    375.250000  325.000000  112.000000  ...    9.040000    1.000000    0.82000\n",
              "max    500.000000  340.000000  120.000000  ...    9.920000    1.000000    0.97000\n",
              "\n",
              "[8 rows x 9 columns]"
            ]
          },
          "metadata": {
            "tags": []
          },
          "execution_count": 6
        }
      ]
    },
    {
      "cell_type": "markdown",
      "metadata": {
        "id": "Qv-8_mcOvZ4z",
        "colab_type": "text"
      },
      "source": [
        "(Optional 2) Drop the column \"Serial No\". Again, no extra points for this, but it might be helpful to visualize things later on."
      ]
    },
    {
      "cell_type": "code",
      "metadata": {
        "id": "4OGxoOAwvZ41",
        "colab_type": "code",
        "outputId": "1c4f2b5c-2e3d-4d9d-9e41-753f70ad6533",
        "colab": {
          "base_uri": "https://localhost:8080/",
          "height": 255
        }
      },
      "source": [
        "#YOUR CODE HERE\n",
        "df.drop(['ID'], axis=1,inplace=True)\n",
        "print(df)"
      ],
      "execution_count": 5,
      "outputs": [
        {
          "output_type": "stream",
          "text": [
            "     GRE  TOEFL  Rating  SOP  LOR  CGPA  Research  Admit\n",
            "0    337    118       4  4.5  4.5  9.65         1   0.92\n",
            "1    324    107       4  4.0  4.5  8.87         1   0.76\n",
            "2    316    104       3  3.0  3.5  8.00         1   0.72\n",
            "3    322    110       3  3.5  2.5  8.67         1   0.80\n",
            "4    314    103       2  2.0  3.0  8.21         0   0.65\n",
            "..   ...    ...     ...  ...  ...   ...       ...    ...\n",
            "495  332    108       5  4.5  4.0  9.02         1   0.87\n",
            "496  337    117       5  5.0  5.0  9.87         1   0.96\n",
            "497  330    120       5  4.5  5.0  9.56         1   0.93\n",
            "498  312    103       4  4.0  5.0  8.43         0   0.73\n",
            "499  327    113       4  4.5  4.5  9.04         0   0.84\n",
            "\n",
            "[500 rows x 8 columns]\n"
          ],
          "name": "stdout"
        }
      ]
    },
    {
      "cell_type": "markdown",
      "metadata": {
        "id": "X_c3f9gfvZ43",
        "colab_type": "text"
      },
      "source": [
        "** 3. What is the distribution of the chances of admit? Plot an histogram of this variable. **"
      ]
    },
    {
      "cell_type": "code",
      "metadata": {
        "id": "jjX2Ts00vZ45",
        "colab_type": "code",
        "outputId": "a8e1437c-75c0-4538-910b-452f37d20de0",
        "colab": {
          "base_uri": "https://localhost:8080/",
          "height": 315
        }
      },
      "source": [
        "#YOUR CODE HERE\n",
        "df.hist(column=\"Admit\")"
      ],
      "execution_count": 0,
      "outputs": [
        {
          "output_type": "execute_result",
          "data": {
            "text/plain": [
              "array([[<matplotlib.axes._subplots.AxesSubplot object at 0x7f9c45d22710>]],\n",
              "      dtype=object)"
            ]
          },
          "metadata": {
            "tags": []
          },
          "execution_count": 35
        },
        {
          "output_type": "display_data",
          "data": {
            "image/png": "[encoded data removed]",
            "text/plain": [
              "<Figure size 432x288 with 1 Axes>"
            ]
          },
          "metadata": {
            "tags": []
          }
        }
      ]
    },
    {
      "cell_type": "markdown",
      "metadata": {
        "id": "kQSD2DvyvZ48",
        "colab_type": "text"
      },
      "source": [
        "** 4. Chances of admit seem to vary quite a bit. How much of this depends on the quality of the university that the applicant attended? Print the average chance of admit per university rating. **"
      ]
    },
    {
      "cell_type": "code",
      "metadata": {
        "id": "UC8YV0M8vZ49",
        "colab_type": "code",
        "outputId": "84df4a4f-d5e8-467c-9153-44a52adbf773",
        "colab": {
          "base_uri": "https://localhost:8080/",
          "height": 136
        }
      },
      "source": [
        "#YOUR CODE HERE\n",
        "grouped = df['Admit'].groupby(df['Rating'])\n",
        "grouped.mean()"
      ],
      "execution_count": 0,
      "outputs": [
        {
          "output_type": "execute_result",
          "data": {
            "text/plain": [
              "Rating\n",
              "1    0.562059\n",
              "2    0.626111\n",
              "3    0.702901\n",
              "4    0.801619\n",
              "5    0.888082\n",
              "Name: Admit, dtype: float64"
            ]
          },
          "metadata": {
            "tags": []
          },
          "execution_count": 17
        }
      ]
    },
    {
      "cell_type": "markdown",
      "metadata": {
        "id": "TK57ZTDZvZ4_",
        "colab_type": "text"
      },
      "source": [
        "** 5. Does the distribution of chances of admit change with university rating? Plot an histogram of chances of admit for each university rating. **"
      ]
    },
    {
      "cell_type": "code",
      "metadata": {
        "id": "j_MD-ZeQvZ5A",
        "colab_type": "code",
        "outputId": "6376c01f-40d7-41cf-ce1b-8321d3c56d1a",
        "colab": {
          "base_uri": "https://localhost:8080/",
          "height": 405
        }
      },
      "source": [
        "#YOUR CODE HERE\n",
        "df.hist(column = \"Admit\", by = \"Rating\")"
      ],
      "execution_count": 0,
      "outputs": [
        {
          "output_type": "execute_result",
          "data": {
            "text/plain": [
              "array([[<matplotlib.axes._subplots.AxesSubplot object at 0x7fb07bf28048>,\n",
              "        <matplotlib.axes._subplots.AxesSubplot object at 0x7fb07be40da0>],\n",
              "       [<matplotlib.axes._subplots.AxesSubplot object at 0x7fb07bdff278>,\n",
              "        <matplotlib.axes._subplots.AxesSubplot object at 0x7fb07bdae828>],\n",
              "       [<matplotlib.axes._subplots.AxesSubplot object at 0x7fb07bddfdd8>,\n",
              "        <matplotlib.axes._subplots.AxesSubplot object at 0x7fb07bd9d3c8>]],\n",
              "      dtype=object)"
            ]
          },
          "metadata": {
            "tags": []
          },
          "execution_count": 7
        },
        {
          "output_type": "display_data",
          "data": {
            "image/png": "[encoded data removed]",
            "text/plain": [
              "<Figure size 432x288 with 6 Axes>"
            ]
          },
          "metadata": {
            "tags": []
          }
        }
      ]
    },
    {
      "cell_type": "markdown",
      "metadata": {
        "id": "MO5gkQahvZ5D",
        "colab_type": "text"
      },
      "source": [
        "** 6. Another way to look at the relationship between two variables is through scatter plots. Plot a scatter plot between GRE and chance of admit. **"
      ]
    },
    {
      "cell_type": "code",
      "metadata": {
        "id": "ZBTmc7Z1vZ5F",
        "colab_type": "code",
        "outputId": "36b32370-df6d-4b93-9a7b-172c462f22c0",
        "colab": {
          "base_uri": "https://localhost:8080/",
          "height": 282
        }
      },
      "source": [
        "#YOUR CODE HERE\n",
        "plt.scatter(df['GRE'], df['Admit'])"
      ],
      "execution_count": 0,
      "outputs": [
        {
          "output_type": "execute_result",
          "data": {
            "text/plain": [
              "<matplotlib.collections.PathCollection at 0x7f1f9a9743c8>"
            ]
          },
          "metadata": {
            "tags": []
          },
          "execution_count": 20
        },
        {
          "output_type": "display_data",
          "data": {
            "image/png": "[encoded data removed]",
            "text/plain": [
              "<Figure size 432x288 with 1 Axes>"
            ]
          },
          "metadata": {
            "tags": []
          }
        }
      ]
    },
    {
      "cell_type": "markdown",
      "metadata": {
        "id": "NqC0E3qbvZ5H",
        "colab_type": "text"
      },
      "source": [
        "** 7. Boxplots are also useful to look at the relationship between a categorical variable and a numeric variable. Plot a boxplot of chance of admit grouped by \"Research\". **"
      ]
    },
    {
      "cell_type": "code",
      "metadata": {
        "id": "ILJO_f5-vZ5I",
        "colab_type": "code",
        "outputId": "e59ba5d6-cdd3-476a-a4cc-b5b698dd2efb",
        "colab": {
          "base_uri": "https://localhost:8080/",
          "height": 300
        }
      },
      "source": [
        "#YOUR CODE HERE\n",
        "sns.boxplot(x=\"Research\", y=\"Admit\", data=df)"
      ],
      "execution_count": 0,
      "outputs": [
        {
          "output_type": "execute_result",
          "data": {
            "text/plain": [
              "<matplotlib.axes._subplots.AxesSubplot at 0x7fb07b597780>"
            ]
          },
          "metadata": {
            "tags": []
          },
          "execution_count": 11
        },
        {
          "output_type": "display_data",
          "data": {
            "image/png": "[encoded data removed]",
            "text/plain": [
              "<Figure size 432x288 with 1 Axes>"
            ]
          },
          "metadata": {
            "tags": []
          }
        }
      ]
    },
    {
      "cell_type": "markdown",
      "metadata": {
        "id": "XPuY5dy3vZ5K",
        "colab_type": "text"
      },
      "source": [
        "** 8. Very often it is useful to quantify how strong is the relationship between different variables. For example, measures of correlation, such as Pearson's correlation coefficient, can show whether one numeric variable gives information on another numeric variable. Pandas allows us to compute the Pearson correlation coefficient between all pairs of columns in our dataframe. Display the correlations between all pairs of columns. **"
      ]
    },
    {
      "cell_type": "code",
      "metadata": {
        "id": "AlbFTcJivZ5L",
        "colab_type": "code",
        "outputId": "b61725d9-6103-45cf-9f22-3ca920121092",
        "colab": {
          "base_uri": "https://localhost:8080/",
          "height": 204
        }
      },
      "source": [
        "#YOUR CODE HERE\n",
        "pearsoncorr = df.corr(method='pearson')\n",
        "print(pearsoncorr)"
      ],
      "execution_count": 0,
      "outputs": [
        {
          "output_type": "stream",
          "text": [
            "               GRE     TOEFL    Rating  ...      CGPA  Research     Admit\n",
            "GRE       1.000000  0.827200  0.635376  ...  0.825878  0.563398  0.810351\n",
            "TOEFL     0.827200  1.000000  0.649799  ...  0.810574  0.467012  0.792228\n",
            "Rating    0.635376  0.649799  1.000000  ...  0.705254  0.427047  0.690132\n",
            "SOP       0.613498  0.644410  0.728024  ...  0.712154  0.408116  0.684137\n",
            "LOR       0.524679  0.541563  0.608651  ...  0.637469  0.372526  0.645365\n",
            "CGPA      0.825878  0.810574  0.705254  ...  1.000000  0.501311  0.882413\n",
            "Research  0.563398  0.467012  0.427047  ...  0.501311  1.000000  0.545871\n",
            "Admit     0.810351  0.792228  0.690132  ...  0.882413  0.545871  1.000000\n",
            "\n",
            "[8 rows x 8 columns]\n"
          ],
          "name": "stdout"
        }
      ]
    },
    {
      "cell_type": "markdown",
      "metadata": {
        "id": "OsRLe198vZ5O",
        "colab_type": "text"
      },
      "source": [
        "** 9. Heatmaps are a tool for conveniently visualizing correlation data. Plot these correlations as a seaborn heatmap. Which pairs of variables are most closely correlated? Which variable gives the most information on chance of admit? **"
      ]
    },
    {
      "cell_type": "code",
      "metadata": {
        "id": "hLwl2HpKvZ5P",
        "colab_type": "code",
        "outputId": "232e6919-9a82-4a32-e634-58d4fba5d3ae",
        "colab": {
          "base_uri": "https://localhost:8080/",
          "height": 323
        }
      },
      "source": [
        "#YOUR CODE HERE\n",
        "sns.heatmap(pearsoncorr, cmap='RdBu_r')"
      ],
      "execution_count": 0,
      "outputs": [
        {
          "output_type": "execute_result",
          "data": {
            "text/plain": [
              "<matplotlib.axes._subplots.AxesSubplot at 0x7ff4cdd89fd0>"
            ]
          },
          "metadata": {
            "tags": []
          },
          "execution_count": 14
        },
        {
          "output_type": "display_data",
          "data": {
            "image/png": "[encoded data removed]",
            "text/plain": [
              "<Figure size 432x288 with 2 Axes>"
            ]
          },
          "metadata": {
            "tags": []
          }
        }
      ]
    },
    {
      "cell_type": "markdown",
      "metadata": {
        "id": "lqSuKCm0vZ5U",
        "colab_type": "text"
      },
      "source": [
        "The most correlated variables are GPA and Chance of Admit. GPA seems to be the most informative variable."
      ]
    },
    {
      "cell_type": "markdown",
      "metadata": {
        "id": "JCLuyPZYvZ5U",
        "colab_type": "text"
      },
      "source": [
        "** 10. Following the example in class, build a linear model to predict the chance of admit using the application info available. Generate predictions and compare predicted quality to the actual value in a scatter plot. **"
      ]
    },
    {
      "cell_type": "code",
      "metadata": {
        "id": "2pwlUomIvZ5V",
        "colab_type": "code",
        "outputId": "13043210-85f2-4e9d-f311-723c381a776d",
        "colab": {
          "base_uri": "https://localhost:8080/",
          "height": 80
        }
      },
      "source": [
        "#YOUR CODE HERE\n",
        "from sklearn import linear_model \n",
        "my_linear = linear_model.Lasso(alpha=0.01)\n",
        "features = [\"GRE\", \"TOEFL\", \"Rating\", \"CGPA\",\"Research\"]\n",
        "target = \"Admit\"\n",
        "my_linear.fit(df[features], df[target])\n",
        "pd.DataFrame([dict(zip(features, my_linear.coef_))])\n"
      ],
      "execution_count": 11,
      "outputs": [
        {
          "output_type": "execute_result",
          "data": {
            "text/html": [
              "<div>\n",
              "<style scoped>\n",
              "    .dataframe tbody tr th:only-of-type {\n",
              "        vertical-align: middle;\n",
              "    }\n",
              "\n",
              "    .dataframe tbody tr th {\n",
              "        vertical-align: top;\n",
              "    }\n",
              "\n",
              "    .dataframe thead th {\n",
              "        text-align: right;\n",
              "    }\n",
              "</style>\n",
              "<table border=\"1\" class=\"dataframe\">\n",
              "  <thead>\n",
              "    <tr style=\"text-align: right;\">\n",
              "      <th></th>\n",
              "      <th>GRE</th>\n",
              "      <th>TOEFL</th>\n",
              "      <th>Rating</th>\n",
              "      <th>CGPA</th>\n",
              "      <th>Research</th>\n",
              "    </tr>\n",
              "  </thead>\n",
              "  <tbody>\n",
              "    <tr>\n",
              "      <th>0</th>\n",
              "      <td>0.004933</td>\n",
              "      <td>0.006148</td>\n",
              "      <td>0.011518</td>\n",
              "      <td>0.036974</td>\n",
              "      <td>0.0</td>\n",
              "    </tr>\n",
              "  </tbody>\n",
              "</table>\n",
              "</div>"
            ],
            "text/plain": [
              "        GRE     TOEFL    Rating      CGPA  Research\n",
              "0  0.004933  0.006148  0.011518  0.036974       0.0"
            ]
          },
          "metadata": {
            "tags": []
          },
          "execution_count": 11
        }
      ]
    },
    {
      "cell_type": "code",
      "metadata": {
        "id": "Xx98fhKRdzEA",
        "colab_type": "code",
        "colab": {
          "base_uri": "https://localhost:8080/",
          "height": 204
        },
        "outputId": "8b1040bb-9b07-4a67-e6f5-3ebc48882edb"
      },
      "source": [
        "preds = my_linear.predict(df[features])\n",
        "predictions_df = df.assign(predictions=preds)\n",
        "predictions_df[[\"Admit\", \"predictions\"]].head(5)"
      ],
      "execution_count": 8,
      "outputs": [
        {
          "output_type": "execute_result",
          "data": {
            "text/html": [
              "<div>\n",
              "<style scoped>\n",
              "    .dataframe tbody tr th:only-of-type {\n",
              "        vertical-align: middle;\n",
              "    }\n",
              "\n",
              "    .dataframe tbody tr th {\n",
              "        vertical-align: top;\n",
              "    }\n",
              "\n",
              "    .dataframe thead th {\n",
              "        text-align: right;\n",
              "    }\n",
              "</style>\n",
              "<table border=\"1\" class=\"dataframe\">\n",
              "  <thead>\n",
              "    <tr style=\"text-align: right;\">\n",
              "      <th></th>\n",
              "      <th>Admit</th>\n",
              "      <th>predictions</th>\n",
              "    </tr>\n",
              "  </thead>\n",
              "  <tbody>\n",
              "    <tr>\n",
              "      <th>0</th>\n",
              "      <td>0.92</td>\n",
              "      <td>0.939351</td>\n",
              "    </tr>\n",
              "    <tr>\n",
              "      <th>1</th>\n",
              "      <td>0.76</td>\n",
              "      <td>0.778755</td>\n",
              "    </tr>\n",
              "    <tr>\n",
              "      <th>2</th>\n",
              "      <td>0.72</td>\n",
              "      <td>0.677161</td>\n",
              "    </tr>\n",
              "    <tr>\n",
              "      <th>3</th>\n",
              "      <td>0.80</td>\n",
              "      <td>0.768420</td>\n",
              "    </tr>\n",
              "    <tr>\n",
              "      <th>4</th>\n",
              "      <td>0.65</td>\n",
              "      <td>0.657394</td>\n",
              "    </tr>\n",
              "  </tbody>\n",
              "</table>\n",
              "</div>"
            ],
            "text/plain": [
              "   Admit  predictions\n",
              "0   0.92     0.939351\n",
              "1   0.76     0.778755\n",
              "2   0.72     0.677161\n",
              "3   0.80     0.768420\n",
              "4   0.65     0.657394"
            ]
          },
          "metadata": {
            "tags": []
          },
          "execution_count": 8
        }
      ]
    },
    {
      "cell_type": "code",
      "metadata": {
        "id": "7UAlajCjd_SR",
        "colab_type": "code",
        "colab": {
          "base_uri": "https://localhost:8080/",
          "height": 296
        },
        "outputId": "02a269f1-5416-4dc7-8687-07f7edf0143b"
      },
      "source": [
        "predictions_df.plot(kind=\"scatter\", x=\"Admit\", y=\"predictions\")"
      ],
      "execution_count": 12,
      "outputs": [
        {
          "output_type": "execute_result",
          "data": {
            "text/plain": [
              "<matplotlib.axes._subplots.AxesSubplot at 0x7fbe35d4c668>"
            ]
          },
          "metadata": {
            "tags": []
          },
          "execution_count": 12
        },
        {
          "output_type": "display_data",
          "data": {
            "image/png": "[encoded data removed]",
            "text/plain": [
              "<Figure size 432x288 with 1 Axes>"
            ]
          },
          "metadata": {
            "tags": []
          }
        }
      ]
    },
    {
      "cell_type": "markdown",
      "metadata": {
        "id": "7VQgG2d8vZ5Y",
        "colab_type": "text"
      },
      "source": [
        "** 11. (Extra Points, Optional) There are many different types of predictive models, each with their own plusses and minuses. For this task, repeat your modeling performed in step 8, but using a sklearn.ensemble.RandomForestRegressor. How does the scatter plot compare with the prior results? **"
      ]
    },
    {
      "cell_type": "code",
      "metadata": {
        "id": "b4nTFVI1vZ5Y",
        "colab_type": "code",
        "colab": {
          "base_uri": "https://localhost:8080/",
          "height": 136
        },
        "outputId": "80feb3c6-2f7b-4ef3-e018-2c16dc4ec19e"
      },
      "source": [
        "from sklearn.ensemble import RandomForestRegressor\n",
        "#YOUR CODE HERE\n",
        "my_regressor = RandomForestRegressor() \n",
        "my_regressor.fit(df[features], df[target])   "
      ],
      "execution_count": 34,
      "outputs": [
        {
          "output_type": "execute_result",
          "data": {
            "text/plain": [
              "RandomForestRegressor(bootstrap=True, ccp_alpha=0.0, criterion='mse',\n",
              "                      max_depth=None, max_features='auto', max_leaf_nodes=None,\n",
              "                      max_samples=None, min_impurity_decrease=0.0,\n",
              "                      min_impurity_split=None, min_samples_leaf=1,\n",
              "                      min_samples_split=2, min_weight_fraction_leaf=0.0,\n",
              "                      n_estimators=100, n_jobs=None, oob_score=False,\n",
              "                      random_state=None, verbose=0, warm_start=False)"
            ]
          },
          "metadata": {
            "tags": []
          },
          "execution_count": 34
        }
      ]
    },
    {
      "cell_type": "code",
      "metadata": {
        "id": "c0fyC_UqhvUs",
        "colab_type": "code",
        "colab": {
          "base_uri": "https://localhost:8080/",
          "height": 297
        },
        "outputId": "d005f06e-9156-4bad-ed79-91be7d7be4c3"
      },
      "source": [
        "preds2 = my_regressor.predict(df[features])\n",
        "predictions_df = df.assign(predictions=preds2)\n",
        "predictions_df.plot(kind=\"scatter\", x=\"Admit\", y=\"predictions\")\n",
        "#The result of RandomForestRegressor fits better with the real result than the linear model."
      ],
      "execution_count": 44,
      "outputs": [
        {
          "output_type": "execute_result",
          "data": {
            "text/plain": [
              "<matplotlib.axes._subplots.AxesSubplot at 0x7fbe31382860>"
            ]
          },
          "metadata": {
            "tags": []
          },
          "execution_count": 44
        },
        {
          "output_type": "display_data",
          "data": {
            "image/png": "[encoded data removed]",
            "text/plain": [
              "<Figure size 432x288 with 1 Axes>"
            ]
          },
          "metadata": {
            "tags": []
          }
        }
      ]
    },
    {
      "cell_type": "markdown",
      "metadata": {
        "id": "Luv1CDcrvZ5b",
        "colab_type": "text"
      },
      "source": [
        "This scatter plot shows better predictions, but as we saw in the previous class, the model could be overfitting."
      ]
    }
  ]
}