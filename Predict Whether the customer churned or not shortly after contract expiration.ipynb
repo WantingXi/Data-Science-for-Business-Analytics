{
  "nbformat": 4,
  "nbformat_minor": 0,
  "metadata": {
    "kernelspec": {
      "display_name": "Python 3",
      "language": "python",
      "name": "python3"
    },
    "language_info": {
      "codemirror_mode": {
        "name": "ipython",
        "version": 3
      },
      "file_extension": ".py",
      "mimetype": "text/x-python",
      "name": "python",
      "nbconvert_exporter": "python",
      "pygments_lexer": "ipython3",
      "version": "3.7.4"
    },
    "colab": {
      "name": "Homework 3_Wanting.ipynb",
      "provenance": [],
      "collapsed_sections": []
    }
  },
  "cells": [
    {
      "cell_type": "code",
      "metadata": {
        "scrolled": true,
        "id": "YBey6SmahI20",
        "colab_type": "code",
        "outputId": "0bc09c41-9ef9-4a62-e119-e3b73671362b",
        "colab": {
          "base_uri": "https://localhost:8080/",
          "height": 170
        }
      },
      "source": [
        "#If opening in colab run this cell\n",
        "!git clone https://github.com/bwolfson2/foster_2020\n",
        "%cd foster_2020/Homeworks"
      ],
      "execution_count": 0,
      "outputs": [
        {
          "output_type": "stream",
          "text": [
            "Cloning into 'foster_2020'...\n",
            "remote: Enumerating objects: 175, done.\u001b[K\n",
            "remote: Counting objects: 100% (175/175), done.\u001b[K\n",
            "remote: Compressing objects: 100% (142/142), done.\u001b[K\n",
            "remote: Total 284 (delta 54), reused 147 (delta 27), pack-reused 109\u001b[K\n",
            "Receiving objects: 100% (284/284), 59.55 MiB | 23.36 MiB/s, done.\n",
            "Resolving deltas: 100% (93/93), done.\n",
            "Checking out files: 100% (120/120), done.\n",
            "/content/foster_2020/Homeworks\n"
          ],
          "name": "stdout"
        }
      ]
    },
    {
      "cell_type": "markdown",
      "metadata": {
        "id": "du-oRcwihI25",
        "colab_type": "text"
      },
      "source": [
        "# IF OPENING IN COLAB, PLEASE REMEMBER TO SAVE THE NOTEBOOK TO YOUR GOOGLE DRIVE"
      ]
    },
    {
      "cell_type": "markdown",
      "metadata": {
        "id": "s_2K78bphI26",
        "colab_type": "text"
      },
      "source": [
        "To open notebook in Colab please click below:\n",
        "\n",
        "<a href=\"https://colab.research.google.com/github/bwolfson2/foster_2020/blob/master/Homeworks/Homework%203.ipynb\" target=\"_parent\"> <img src=\"https://colab.research.google.com/assets/colab-badge.svg\" alt=\"Open In Colab\" /> </a>'"
      ]
    },
    {
      "cell_type": "markdown",
      "metadata": {
        "id": "CsazmdcDhI27",
        "colab_type": "text"
      },
      "source": [
        "# Predicting Churn\n",
        "\n",
        "After discussing the churn problem at TelCo with Henrietta for a while (remember, from your pre-class assignment?), you've finally defined an adequate target variable for churn and gathered relevant data to predict it. Moreover, the marketing department has come up with an amazing retention offer: the offer is guaranteed to convince customers to extend their contract for an extra year after receiving it. Unfortunately, the offer is quite expensive; it costs $200. \n",
        "\n",
        "You've been authorized to give the retention offer to up to 25% of the customers whose contract is expiring. It is your job to use data from previous contract expirations to build a churn predictive model and make a recommendation of whom to target with the offers. The historical data includes:\n",
        "\n",
        "- Gender: Whether the customer is a male or a female\n",
        "- SeniorCitizen: Whether the customer is a senior citizen or not (1, 0)\n",
        "- Partner: Whether the customer has a partner or not (Yes, No)\n",
        "- Dependents: Whether the customer has dependents or not (Yes, No)\n",
        "- tenure: Number of months the customer has stayed with the company\n",
        "- PhoneService: Whether the customer has a phone service or not (Yes, No)\n",
        "- MultipleLines: Whether the customer has multiple lines or not (Yes, No, No phone service)\n",
        "- InternetService: Customer’s internet service provider (DSL, Fiber optic, No)\n",
        "- OnlineSecurity: Whether the customer has online security or not (Yes, No, No internet service)\n",
        "- OnlineBackup: Whether the customer has online backup or not (Yes, No, No internet service)\n",
        "- DeviceProtection: Whether the customer has device protection or not (Yes, No, No internet service)\n",
        "- TechSupport: Whether the customer has tech support or not (Yes, No, No internet service)\n",
        "- StreamingTV: Whether the customer has streaming TV or not (Yes, No, No internet service)\n",
        "- StreamingMovies: Whether the customer has streaming movies or not (Yes, No, No internet service)\n",
        "- Contract: The contract term of the customer (Month-to-month, One year, Two year)\n",
        "- PaperlessBilling: Whether the customer has paperless billing or not (Yes, No)\n",
        "- PaymentMethod: The customer’s payment method (Electronic check, Mailed check, Bank transfer (automatic), Credit card (automatic))\n",
        "- MonthlyCharges: The amount charged to the customer monthly\n",
        "- Churn: Whether the customer churned or not shortly after contract expiration (Yes or No)"
      ]
    },
    {
      "cell_type": "markdown",
      "metadata": {
        "id": "XtZ2vlGChI28",
        "colab_type": "text"
      },
      "source": [
        "__1. Load the churn data. The code below will also transform your categorical variables into dummy variables. No points for this. This is just meant to help you get started.__"
      ]
    },
    {
      "cell_type": "code",
      "metadata": {
        "id": "js3CPus0hI2-",
        "colab_type": "code",
        "colab": {}
      },
      "source": [
        "import numpy as np\n",
        "import pandas as pd\n",
        "\n",
        "# Just change the path below so that it points to your file.\n",
        "data_path = \"./data/data-hw3.csv\" \n",
        "\n",
        "df = pd.read_csv(data_path)\n",
        "df = pd.get_dummies(df, drop_first=True)"
      ],
      "execution_count": 0,
      "outputs": []
    },
    {
      "cell_type": "markdown",
      "metadata": {
        "id": "nuGA7K3NhI3B",
        "colab_type": "text"
      },
      "source": [
        "__2. Split the data into 80% training data and 20% test data.__"
      ]
    },
    {
      "cell_type": "code",
      "metadata": {
        "id": "J4i8zlZWhI3C",
        "colab_type": "code",
        "colab": {}
      },
      "source": [
        "# Your code goes here\n",
        "from sklearn.model_selection import train_test_split\n",
        "train, test = train_test_split(df, test_size=0.2)"
      ],
      "execution_count": 0,
      "outputs": []
    },
    {
      "cell_type": "code",
      "metadata": {
        "id": "GR6SYlhO5Azw",
        "colab_type": "code",
        "outputId": "6e06e627-77d5-4fce-8d89-5b870dbeeba6",
        "colab": {
          "base_uri": "https://localhost:8080/",
          "height": 473
        }
      },
      "source": [
        "df"
      ],
      "execution_count": 0,
      "outputs": [
        {
          "output_type": "execute_result",
          "data": {
            "text/html": [
              "<div>\n",
              "<style scoped>\n",
              "    .dataframe tbody tr th:only-of-type {\n",
              "        vertical-align: middle;\n",
              "    }\n",
              "\n",
              "    .dataframe tbody tr th {\n",
              "        vertical-align: top;\n",
              "    }\n",
              "\n",
              "    .dataframe thead th {\n",
              "        text-align: right;\n",
              "    }\n",
              "</style>\n",
              "<table border=\"1\" class=\"dataframe\">\n",
              "  <thead>\n",
              "    <tr style=\"text-align: right;\">\n",
              "      <th></th>\n",
              "      <th>SeniorCitizen</th>\n",
              "      <th>tenure</th>\n",
              "      <th>MonthlyCharges</th>\n",
              "      <th>gender_Male</th>\n",
              "      <th>Partner_Yes</th>\n",
              "      <th>Dependents_Yes</th>\n",
              "      <th>PhoneService_Yes</th>\n",
              "      <th>MultipleLines_No phone service</th>\n",
              "      <th>MultipleLines_Yes</th>\n",
              "      <th>InternetService_Fiber optic</th>\n",
              "      <th>InternetService_No</th>\n",
              "      <th>OnlineSecurity_No internet service</th>\n",
              "      <th>OnlineSecurity_Yes</th>\n",
              "      <th>OnlineBackup_No internet service</th>\n",
              "      <th>OnlineBackup_Yes</th>\n",
              "      <th>DeviceProtection_No internet service</th>\n",
              "      <th>DeviceProtection_Yes</th>\n",
              "      <th>TechSupport_No internet service</th>\n",
              "      <th>TechSupport_Yes</th>\n",
              "      <th>StreamingTV_No internet service</th>\n",
              "      <th>StreamingTV_Yes</th>\n",
              "      <th>StreamingMovies_No internet service</th>\n",
              "      <th>StreamingMovies_Yes</th>\n",
              "      <th>Contract_One year</th>\n",
              "      <th>Contract_Two year</th>\n",
              "      <th>PaperlessBilling_Yes</th>\n",
              "      <th>PaymentMethod_Credit card (automatic)</th>\n",
              "      <th>PaymentMethod_Electronic check</th>\n",
              "      <th>PaymentMethod_Mailed check</th>\n",
              "      <th>Churn_Yes</th>\n",
              "    </tr>\n",
              "  </thead>\n",
              "  <tbody>\n",
              "    <tr>\n",
              "      <th>0</th>\n",
              "      <td>0</td>\n",
              "      <td>1</td>\n",
              "      <td>29.85</td>\n",
              "      <td>0</td>\n",
              "      <td>1</td>\n",
              "      <td>0</td>\n",
              "      <td>0</td>\n",
              "      <td>1</td>\n",
              "      <td>0</td>\n",
              "      <td>0</td>\n",
              "      <td>0</td>\n",
              "      <td>0</td>\n",
              "      <td>0</td>\n",
              "      <td>0</td>\n",
              "      <td>1</td>\n",
              "      <td>0</td>\n",
              "      <td>0</td>\n",
              "      <td>0</td>\n",
              "      <td>0</td>\n",
              "      <td>0</td>\n",
              "      <td>0</td>\n",
              "      <td>0</td>\n",
              "      <td>0</td>\n",
              "      <td>0</td>\n",
              "      <td>0</td>\n",
              "      <td>1</td>\n",
              "      <td>0</td>\n",
              "      <td>1</td>\n",
              "      <td>0</td>\n",
              "      <td>0</td>\n",
              "    </tr>\n",
              "    <tr>\n",
              "      <th>1</th>\n",
              "      <td>0</td>\n",
              "      <td>34</td>\n",
              "      <td>56.95</td>\n",
              "      <td>1</td>\n",
              "      <td>0</td>\n",
              "      <td>0</td>\n",
              "      <td>1</td>\n",
              "      <td>0</td>\n",
              "      <td>0</td>\n",
              "      <td>0</td>\n",
              "      <td>0</td>\n",
              "      <td>0</td>\n",
              "      <td>1</td>\n",
              "      <td>0</td>\n",
              "      <td>0</td>\n",
              "      <td>0</td>\n",
              "      <td>1</td>\n",
              "      <td>0</td>\n",
              "      <td>0</td>\n",
              "      <td>0</td>\n",
              "      <td>0</td>\n",
              "      <td>0</td>\n",
              "      <td>0</td>\n",
              "      <td>1</td>\n",
              "      <td>0</td>\n",
              "      <td>0</td>\n",
              "      <td>0</td>\n",
              "      <td>0</td>\n",
              "      <td>1</td>\n",
              "      <td>0</td>\n",
              "    </tr>\n",
              "    <tr>\n",
              "      <th>2</th>\n",
              "      <td>0</td>\n",
              "      <td>2</td>\n",
              "      <td>53.85</td>\n",
              "      <td>1</td>\n",
              "      <td>0</td>\n",
              "      <td>0</td>\n",
              "      <td>1</td>\n",
              "      <td>0</td>\n",
              "      <td>0</td>\n",
              "      <td>0</td>\n",
              "      <td>0</td>\n",
              "      <td>0</td>\n",
              "      <td>1</td>\n",
              "      <td>0</td>\n",
              "      <td>1</td>\n",
              "      <td>0</td>\n",
              "      <td>0</td>\n",
              "      <td>0</td>\n",
              "      <td>0</td>\n",
              "      <td>0</td>\n",
              "      <td>0</td>\n",
              "      <td>0</td>\n",
              "      <td>0</td>\n",
              "      <td>0</td>\n",
              "      <td>0</td>\n",
              "      <td>1</td>\n",
              "      <td>0</td>\n",
              "      <td>0</td>\n",
              "      <td>1</td>\n",
              "      <td>1</td>\n",
              "    </tr>\n",
              "    <tr>\n",
              "      <th>3</th>\n",
              "      <td>0</td>\n",
              "      <td>45</td>\n",
              "      <td>42.30</td>\n",
              "      <td>1</td>\n",
              "      <td>0</td>\n",
              "      <td>0</td>\n",
              "      <td>0</td>\n",
              "      <td>1</td>\n",
              "      <td>0</td>\n",
              "      <td>0</td>\n",
              "      <td>0</td>\n",
              "      <td>0</td>\n",
              "      <td>1</td>\n",
              "      <td>0</td>\n",
              "      <td>0</td>\n",
              "      <td>0</td>\n",
              "      <td>1</td>\n",
              "      <td>0</td>\n",
              "      <td>1</td>\n",
              "      <td>0</td>\n",
              "      <td>0</td>\n",
              "      <td>0</td>\n",
              "      <td>0</td>\n",
              "      <td>1</td>\n",
              "      <td>0</td>\n",
              "      <td>0</td>\n",
              "      <td>0</td>\n",
              "      <td>0</td>\n",
              "      <td>0</td>\n",
              "      <td>0</td>\n",
              "    </tr>\n",
              "    <tr>\n",
              "      <th>4</th>\n",
              "      <td>0</td>\n",
              "      <td>2</td>\n",
              "      <td>70.70</td>\n",
              "      <td>0</td>\n",
              "      <td>0</td>\n",
              "      <td>0</td>\n",
              "      <td>1</td>\n",
              "      <td>0</td>\n",
              "      <td>0</td>\n",
              "      <td>1</td>\n",
              "      <td>0</td>\n",
              "      <td>0</td>\n",
              "      <td>0</td>\n",
              "      <td>0</td>\n",
              "      <td>0</td>\n",
              "      <td>0</td>\n",
              "      <td>0</td>\n",
              "      <td>0</td>\n",
              "      <td>0</td>\n",
              "      <td>0</td>\n",
              "      <td>0</td>\n",
              "      <td>0</td>\n",
              "      <td>0</td>\n",
              "      <td>0</td>\n",
              "      <td>0</td>\n",
              "      <td>1</td>\n",
              "      <td>0</td>\n",
              "      <td>1</td>\n",
              "      <td>0</td>\n",
              "      <td>1</td>\n",
              "    </tr>\n",
              "    <tr>\n",
              "      <th>...</th>\n",
              "      <td>...</td>\n",
              "      <td>...</td>\n",
              "      <td>...</td>\n",
              "      <td>...</td>\n",
              "      <td>...</td>\n",
              "      <td>...</td>\n",
              "      <td>...</td>\n",
              "      <td>...</td>\n",
              "      <td>...</td>\n",
              "      <td>...</td>\n",
              "      <td>...</td>\n",
              "      <td>...</td>\n",
              "      <td>...</td>\n",
              "      <td>...</td>\n",
              "      <td>...</td>\n",
              "      <td>...</td>\n",
              "      <td>...</td>\n",
              "      <td>...</td>\n",
              "      <td>...</td>\n",
              "      <td>...</td>\n",
              "      <td>...</td>\n",
              "      <td>...</td>\n",
              "      <td>...</td>\n",
              "      <td>...</td>\n",
              "      <td>...</td>\n",
              "      <td>...</td>\n",
              "      <td>...</td>\n",
              "      <td>...</td>\n",
              "      <td>...</td>\n",
              "      <td>...</td>\n",
              "    </tr>\n",
              "    <tr>\n",
              "      <th>7027</th>\n",
              "      <td>0</td>\n",
              "      <td>24</td>\n",
              "      <td>84.80</td>\n",
              "      <td>1</td>\n",
              "      <td>1</td>\n",
              "      <td>1</td>\n",
              "      <td>1</td>\n",
              "      <td>0</td>\n",
              "      <td>1</td>\n",
              "      <td>0</td>\n",
              "      <td>0</td>\n",
              "      <td>0</td>\n",
              "      <td>1</td>\n",
              "      <td>0</td>\n",
              "      <td>0</td>\n",
              "      <td>0</td>\n",
              "      <td>1</td>\n",
              "      <td>0</td>\n",
              "      <td>1</td>\n",
              "      <td>0</td>\n",
              "      <td>1</td>\n",
              "      <td>0</td>\n",
              "      <td>1</td>\n",
              "      <td>1</td>\n",
              "      <td>0</td>\n",
              "      <td>1</td>\n",
              "      <td>0</td>\n",
              "      <td>0</td>\n",
              "      <td>1</td>\n",
              "      <td>0</td>\n",
              "    </tr>\n",
              "    <tr>\n",
              "      <th>7028</th>\n",
              "      <td>0</td>\n",
              "      <td>72</td>\n",
              "      <td>103.20</td>\n",
              "      <td>0</td>\n",
              "      <td>1</td>\n",
              "      <td>1</td>\n",
              "      <td>1</td>\n",
              "      <td>0</td>\n",
              "      <td>1</td>\n",
              "      <td>1</td>\n",
              "      <td>0</td>\n",
              "      <td>0</td>\n",
              "      <td>0</td>\n",
              "      <td>0</td>\n",
              "      <td>1</td>\n",
              "      <td>0</td>\n",
              "      <td>1</td>\n",
              "      <td>0</td>\n",
              "      <td>0</td>\n",
              "      <td>0</td>\n",
              "      <td>1</td>\n",
              "      <td>0</td>\n",
              "      <td>1</td>\n",
              "      <td>1</td>\n",
              "      <td>0</td>\n",
              "      <td>1</td>\n",
              "      <td>1</td>\n",
              "      <td>0</td>\n",
              "      <td>0</td>\n",
              "      <td>0</td>\n",
              "    </tr>\n",
              "    <tr>\n",
              "      <th>7029</th>\n",
              "      <td>0</td>\n",
              "      <td>11</td>\n",
              "      <td>29.60</td>\n",
              "      <td>0</td>\n",
              "      <td>1</td>\n",
              "      <td>1</td>\n",
              "      <td>0</td>\n",
              "      <td>1</td>\n",
              "      <td>0</td>\n",
              "      <td>0</td>\n",
              "      <td>0</td>\n",
              "      <td>0</td>\n",
              "      <td>1</td>\n",
              "      <td>0</td>\n",
              "      <td>0</td>\n",
              "      <td>0</td>\n",
              "      <td>0</td>\n",
              "      <td>0</td>\n",
              "      <td>0</td>\n",
              "      <td>0</td>\n",
              "      <td>0</td>\n",
              "      <td>0</td>\n",
              "      <td>0</td>\n",
              "      <td>0</td>\n",
              "      <td>0</td>\n",
              "      <td>1</td>\n",
              "      <td>0</td>\n",
              "      <td>1</td>\n",
              "      <td>0</td>\n",
              "      <td>0</td>\n",
              "    </tr>\n",
              "    <tr>\n",
              "      <th>7030</th>\n",
              "      <td>1</td>\n",
              "      <td>4</td>\n",
              "      <td>74.40</td>\n",
              "      <td>1</td>\n",
              "      <td>1</td>\n",
              "      <td>0</td>\n",
              "      <td>1</td>\n",
              "      <td>0</td>\n",
              "      <td>1</td>\n",
              "      <td>1</td>\n",
              "      <td>0</td>\n",
              "      <td>0</td>\n",
              "      <td>0</td>\n",
              "      <td>0</td>\n",
              "      <td>0</td>\n",
              "      <td>0</td>\n",
              "      <td>0</td>\n",
              "      <td>0</td>\n",
              "      <td>0</td>\n",
              "      <td>0</td>\n",
              "      <td>0</td>\n",
              "      <td>0</td>\n",
              "      <td>0</td>\n",
              "      <td>0</td>\n",
              "      <td>0</td>\n",
              "      <td>1</td>\n",
              "      <td>0</td>\n",
              "      <td>0</td>\n",
              "      <td>1</td>\n",
              "      <td>1</td>\n",
              "    </tr>\n",
              "    <tr>\n",
              "      <th>7031</th>\n",
              "      <td>0</td>\n",
              "      <td>66</td>\n",
              "      <td>105.65</td>\n",
              "      <td>1</td>\n",
              "      <td>0</td>\n",
              "      <td>0</td>\n",
              "      <td>1</td>\n",
              "      <td>0</td>\n",
              "      <td>0</td>\n",
              "      <td>1</td>\n",
              "      <td>0</td>\n",
              "      <td>0</td>\n",
              "      <td>1</td>\n",
              "      <td>0</td>\n",
              "      <td>0</td>\n",
              "      <td>0</td>\n",
              "      <td>1</td>\n",
              "      <td>0</td>\n",
              "      <td>1</td>\n",
              "      <td>0</td>\n",
              "      <td>1</td>\n",
              "      <td>0</td>\n",
              "      <td>1</td>\n",
              "      <td>0</td>\n",
              "      <td>1</td>\n",
              "      <td>1</td>\n",
              "      <td>0</td>\n",
              "      <td>0</td>\n",
              "      <td>0</td>\n",
              "      <td>0</td>\n",
              "    </tr>\n",
              "  </tbody>\n",
              "</table>\n",
              "<p>7032 rows × 30 columns</p>\n",
              "</div>"
            ],
            "text/plain": [
              "      SeniorCitizen  tenure  ...  PaymentMethod_Mailed check  Churn_Yes\n",
              "0                 0       1  ...                           0          0\n",
              "1                 0      34  ...                           1          0\n",
              "2                 0       2  ...                           1          1\n",
              "3                 0      45  ...                           0          0\n",
              "4                 0       2  ...                           0          1\n",
              "...             ...     ...  ...                         ...        ...\n",
              "7027              0      24  ...                           1          0\n",
              "7028              0      72  ...                           0          0\n",
              "7029              0      11  ...                           0          0\n",
              "7030              1       4  ...                           1          1\n",
              "7031              0      66  ...                           0          0\n",
              "\n",
              "[7032 rows x 30 columns]"
            ]
          },
          "metadata": {
            "tags": []
          },
          "execution_count": 5
        }
      ]
    },
    {
      "cell_type": "markdown",
      "metadata": {
        "id": "JbAiGH6uhI3F",
        "colab_type": "text"
      },
      "source": [
        "__3. Build the best model you can for each of the following three model types:__\n",
        "- __A decision tree classifier. Try different values for the parameter min_samples_leaf.__\n",
        "- __A logistic regression. Try different values for the parameter C.__\n",
        "- __A third model of your choice. Some suggestions: KNN, SVM, etc. Try different paramater values for this one too.__\n",
        "\n",
        "__Optimize in terms of their generalization performance using ROC Area and cross-validation with 10 folds. Remember to use only the training data (do not use the test data at all for this example). For each of these model types, you should report the best parameter value you found and the corresponding ROC Area in the cross-validation. Your code should also show the process you went through to try different complexity parameter(s) for each model type. Pick one model to move forward with. Why did you select this one?__\n",
        "\n",
        "__HINT: There is an example below of the ROC Area for a DecisionTreeClassifier using cross validation.__  "
      ]
    },
    {
      "cell_type": "code",
      "metadata": {
        "id": "nsn0ogvThI3H",
        "colab_type": "code",
        "outputId": "da06669c-c27b-455f-ca8d-6e1ace242ad4",
        "colab": {
          "base_uri": "https://localhost:8080/",
          "height": 34
        }
      },
      "source": [
        "# The code below is just meant as an example for you to compute the ROC Area using cross validation.\n",
        "\n",
        "from sklearn.tree import DecisionTreeClassifier\n",
        "from sklearn.model_selection import cross_val_score\n",
        "\n",
        "target = \"Churn_Yes\"\n",
        "predictors = df.columns[df.columns != target]\n",
        "example_model = DecisionTreeClassifier()\n",
        "# Remember to only use the training data here!!\n",
        "avg_auc = cross_val_score(example_model, df[predictors], df[target], cv=10, scoring=\"roc_auc\").mean()\n",
        "print(avg_auc)"
      ],
      "execution_count": 0,
      "outputs": [
        {
          "output_type": "stream",
          "text": [
            "0.661599220393075\n"
          ],
          "name": "stdout"
        }
      ]
    },
    {
      "cell_type": "markdown",
      "metadata": {
        "id": "cjOkWFih7EDS",
        "colab_type": "text"
      },
      "source": [
        "**Decision Tree Classifier**"
      ]
    },
    {
      "cell_type": "code",
      "metadata": {
        "id": "TseB_KJIhI3L",
        "colab_type": "code",
        "outputId": "fd5d1918-555c-44b2-ce4a-609624eb74df",
        "colab": {
          "base_uri": "https://localhost:8080/",
          "height": 34
        }
      },
      "source": [
        "# Your code goes here\n",
        "from sklearn.tree import DecisionTreeClassifier\n",
        "from sklearn.model_selection import cross_val_score\n",
        "target = \"Churn_Yes\"\n",
        "predictors = train.columns[train.columns != target]\n",
        "model = DecisionTreeClassifier()\n",
        "avg_auc = cross_val_score(model, train[predictors], train[target], cv=10, scoring=\"roc_auc\").mean()\n",
        "print(avg_auc)"
      ],
      "execution_count": 0,
      "outputs": [
        {
          "output_type": "stream",
          "text": [
            "0.6523529216427586\n"
          ],
          "name": "stdout"
        }
      ]
    },
    {
      "cell_type": "code",
      "metadata": {
        "id": "ZfLr_t8X7DEx",
        "colab_type": "code",
        "outputId": "b08ec166-7a91-4ed5-be26-3fe9e0bff6cb",
        "colab": {
          "base_uri": "https://localhost:8080/",
          "height": 357
        }
      },
      "source": [
        "for i in range(10):\n",
        "  k = np.power(2,i)\n",
        "  Desmodel = DecisionTreeClassifier(min_samples_leaf=k)\n",
        "  scores = cross_val_score(Desmodel, train[predictors], train[target], scoring =\"roc_auc\",cv=10)\n",
        "  print(\"When min_samples_leaf is \"+ str(k) +\":\")\n",
        "  print (\"10 folds Cross Validated Accuracy and scoring method is Roc: %0.3f +/- %0.3f\" % (scores.mean(), scores.std()))  "
      ],
      "execution_count": 0,
      "outputs": [
        {
          "output_type": "stream",
          "text": [
            "When min_samples_leaf is 1:\n",
            "10 folds Cross Validated Accuracy and scoring method is Roc: 0.658 +/- 0.019\n",
            "When min_samples_leaf is 2:\n",
            "10 folds Cross Validated Accuracy and scoring method is Roc: 0.694 +/- 0.017\n",
            "When min_samples_leaf is 4:\n",
            "10 folds Cross Validated Accuracy and scoring method is Roc: 0.737 +/- 0.024\n",
            "When min_samples_leaf is 8:\n",
            "10 folds Cross Validated Accuracy and scoring method is Roc: 0.774 +/- 0.019\n",
            "When min_samples_leaf is 16:\n",
            "10 folds Cross Validated Accuracy and scoring method is Roc: 0.809 +/- 0.015\n",
            "When min_samples_leaf is 32:\n",
            "10 folds Cross Validated Accuracy and scoring method is Roc: 0.828 +/- 0.017\n",
            "When min_samples_leaf is 64:\n",
            "10 folds Cross Validated Accuracy and scoring method is Roc: 0.831 +/- 0.018\n",
            "When min_samples_leaf is 128:\n",
            "10 folds Cross Validated Accuracy and scoring method is Roc: 0.832 +/- 0.016\n",
            "When min_samples_leaf is 256:\n",
            "10 folds Cross Validated Accuracy and scoring method is Roc: 0.828 +/- 0.013\n",
            "When min_samples_leaf is 512:\n",
            "10 folds Cross Validated Accuracy and scoring method is Roc: 0.805 +/- 0.014\n"
          ],
          "name": "stdout"
        }
      ]
    },
    {
      "cell_type": "markdown",
      "metadata": {
        "id": "Z0vEZM7a8HFQ",
        "colab_type": "text"
      },
      "source": [
        "So after trying different parameters of min_samples_leaf, I found when the\n",
        "parameter = 64, the accuracy is biggest."
      ]
    },
    {
      "cell_type": "markdown",
      "metadata": {
        "id": "S3Yv3tvg-nf6",
        "colab_type": "text"
      },
      "source": [
        "**logistic regression:**"
      ]
    },
    {
      "cell_type": "code",
      "metadata": {
        "id": "BTzsU1eiT4a7",
        "colab_type": "code",
        "colab": {}
      },
      "source": [
        "from sklearn.linear_model import LogisticRegression"
      ],
      "execution_count": 0,
      "outputs": []
    },
    {
      "cell_type": "code",
      "metadata": {
        "id": "EKOJTBQN6rdz",
        "colab_type": "code",
        "outputId": "c217ea8f-0caf-4080-8b30-2df8b67bca4e",
        "colab": {
          "base_uri": "https://localhost:8080/",
          "height": 323
        }
      },
      "source": [
        "i = 1.0\n",
        "while i < 10:\n",
        "  Logmodel = LogisticRegression(C=i, max_iter=1000)\n",
        "  target = \"Churn_Yes\"\n",
        "  predictors = train.columns[train.columns != target]\n",
        "  Logmodel.fit(train[predictors], train[target])\n",
        "  scores = cross_val_score(Logmodel, train[predictors], train[target], scoring =\"roc_auc\",cv=10)\n",
        "  print(\"When parameter C is \"+ str(i) +\":\")\n",
        "  print (\"10 folds Cross Validated Accuracy and scoring method is Roc: %0.3f +/- %0.5f\" % (scores.mean(), scores.std()))  \n",
        "  i = i + 1.0"
      ],
      "execution_count": 0,
      "outputs": [
        {
          "output_type": "stream",
          "text": [
            "When parameter C is 1.0:\n",
            "10 folds Cross Validated Accuracy and scoring method is Roc: 0.844 +/- 0.01726\n",
            "When parameter C is 2.0:\n",
            "10 folds Cross Validated Accuracy and scoring method is Roc: 0.844 +/- 0.01731\n",
            "When parameter C is 3.0:\n",
            "10 folds Cross Validated Accuracy and scoring method is Roc: 0.844 +/- 0.01725\n",
            "When parameter C is 4.0:\n",
            "10 folds Cross Validated Accuracy and scoring method is Roc: 0.844 +/- 0.01721\n",
            "When parameter C is 5.0:\n",
            "10 folds Cross Validated Accuracy and scoring method is Roc: 0.844 +/- 0.01733\n",
            "When parameter C is 6.0:\n",
            "10 folds Cross Validated Accuracy and scoring method is Roc: 0.844 +/- 0.01731\n",
            "When parameter C is 7.0:\n",
            "10 folds Cross Validated Accuracy and scoring method is Roc: 0.844 +/- 0.01731\n",
            "When parameter C is 8.0:\n",
            "10 folds Cross Validated Accuracy and scoring method is Roc: 0.844 +/- 0.01724\n",
            "When parameter C is 9.0:\n",
            "10 folds Cross Validated Accuracy and scoring method is Roc: 0.844 +/- 0.01724\n"
          ],
          "name": "stdout"
        }
      ]
    },
    {
      "cell_type": "markdown",
      "metadata": {
        "id": "-x4ol392YLw5",
        "colab_type": "text"
      },
      "source": [
        "**KNN：**"
      ]
    },
    {
      "cell_type": "code",
      "metadata": {
        "id": "MCYZoeWOT6lJ",
        "colab_type": "code",
        "colab": {}
      },
      "source": [
        "from sklearn.neighbors import KNeighborsClassifier"
      ],
      "execution_count": 0,
      "outputs": []
    },
    {
      "cell_type": "code",
      "metadata": {
        "id": "KQAqjZuMYK46",
        "colab_type": "code",
        "outputId": "abc2e477-ffa0-4271-a898-38d458e12d0e",
        "colab": {
          "base_uri": "https://localhost:8080/",
          "height": 663
        }
      },
      "source": [
        "\n",
        "k_lis = [i for i in range(1,20)]\n",
        "\n",
        "for x in k_lis:\n",
        "  Knnmodel = KNeighborsClassifier(n_neighbors=x)\n",
        "  scores = cross_val_score(Knnmodel, train[predictors], train[target], scoring =\"roc_auc\",cv=10)\n",
        "  print(\"When parameter n_neighbors is \"+ str(x) +\":\")\n",
        "  print (\"10 folds Cross Validated Accuracy and scoring method is Roc: %0.3f +/- %0.5f\" % (scores.mean(), scores.std()))  "
      ],
      "execution_count": 0,
      "outputs": [
        {
          "output_type": "stream",
          "text": [
            "When parameter n_neighbors is 1:\n",
            "10 folds Cross Validated Accuracy and scoring method is Roc: 0.665 +/- 0.02384\n",
            "When parameter n_neighbors is 2:\n",
            "10 folds Cross Validated Accuracy and scoring method is Roc: 0.720 +/- 0.02093\n",
            "When parameter n_neighbors is 3:\n",
            "10 folds Cross Validated Accuracy and scoring method is Roc: 0.753 +/- 0.02348\n",
            "When parameter n_neighbors is 4:\n",
            "10 folds Cross Validated Accuracy and scoring method is Roc: 0.774 +/- 0.02616\n",
            "When parameter n_neighbors is 5:\n",
            "10 folds Cross Validated Accuracy and scoring method is Roc: 0.784 +/- 0.02201\n",
            "When parameter n_neighbors is 6:\n",
            "10 folds Cross Validated Accuracy and scoring method is Roc: 0.789 +/- 0.02094\n",
            "When parameter n_neighbors is 7:\n",
            "10 folds Cross Validated Accuracy and scoring method is Roc: 0.790 +/- 0.02188\n",
            "When parameter n_neighbors is 8:\n",
            "10 folds Cross Validated Accuracy and scoring method is Roc: 0.795 +/- 0.02170\n",
            "When parameter n_neighbors is 9:\n",
            "10 folds Cross Validated Accuracy and scoring method is Roc: 0.798 +/- 0.02124\n",
            "When parameter n_neighbors is 10:\n",
            "10 folds Cross Validated Accuracy and scoring method is Roc: 0.801 +/- 0.01879\n",
            "When parameter n_neighbors is 11:\n",
            "10 folds Cross Validated Accuracy and scoring method is Roc: 0.803 +/- 0.01841\n",
            "When parameter n_neighbors is 12:\n",
            "10 folds Cross Validated Accuracy and scoring method is Roc: 0.806 +/- 0.01969\n",
            "When parameter n_neighbors is 13:\n",
            "10 folds Cross Validated Accuracy and scoring method is Roc: 0.807 +/- 0.01837\n",
            "When parameter n_neighbors is 14:\n",
            "10 folds Cross Validated Accuracy and scoring method is Roc: 0.809 +/- 0.01619\n",
            "When parameter n_neighbors is 15:\n",
            "10 folds Cross Validated Accuracy and scoring method is Roc: 0.811 +/- 0.01647\n",
            "When parameter n_neighbors is 16:\n",
            "10 folds Cross Validated Accuracy and scoring method is Roc: 0.812 +/- 0.01698\n",
            "When parameter n_neighbors is 17:\n",
            "10 folds Cross Validated Accuracy and scoring method is Roc: 0.814 +/- 0.01637\n",
            "When parameter n_neighbors is 18:\n",
            "10 folds Cross Validated Accuracy and scoring method is Roc: 0.814 +/- 0.01667\n",
            "When parameter n_neighbors is 19:\n",
            "10 folds Cross Validated Accuracy and scoring method is Roc: 0.816 +/- 0.01775\n"
          ],
          "name": "stdout"
        }
      ]
    },
    {
      "cell_type": "markdown",
      "metadata": {
        "id": "hdzqDFhewxf1",
        "colab_type": "text"
      },
      "source": [
        "After comparing the 10 folds cross validated accuracy, I found when we use logistic regression model, the accuracy is highest. So I will choose to use Logistic Regression Model."
      ]
    },
    {
      "cell_type": "markdown",
      "metadata": {
        "id": "gpDW6ubvhI3Q",
        "colab_type": "text"
      },
      "source": [
        "__4. Use your test data to plot the ROC Curves for each of the three best models you found in the previous question (make sure to plot the three curves together). Would you consider changing the selected model after looking at the curves? If yes, explain why. If not, explain what would the curves need to look like for you to consider changing the selected model.__\n",
        "\n",
        "__HINT: There is an example below of the ROC curve for the DecisionTreeClassifier that was used earlier__"
      ]
    },
    {
      "cell_type": "code",
      "metadata": {
        "id": "TtDiAd0ihI3R",
        "colab_type": "code",
        "outputId": "fc6036fc-a5d0-4beb-96a9-1847e38b07d2",
        "colab": {
          "base_uri": "https://localhost:8080/",
          "height": 279
        }
      },
      "source": [
        "# The code below is just meant as an example for you to plot the ROC curve.\n",
        "from sklearn.metrics import roc_curve\n",
        "import matplotlib.pyplot as plt\n",
        "\n",
        "# Remember to use the training data here!! \n",
        "example_model.fit(df[predictors], df[target])\n",
        "# And to use the test data here!!\n",
        "probs = example_model.predict_proba(df[predictors])[:, 1]\n",
        "fpr, tpr, thresholds = roc_curve(df[target], probs)\n",
        "plt.plot(fpr, tpr, label=\"An Example\")\n",
        "plt.ylabel(\"True positive rate\")\n",
        "plt.xlabel(\"False positive rate\")\n",
        "plt.legend()\n",
        "plt.show()"
      ],
      "execution_count": 0,
      "outputs": [
        {
          "output_type": "display_data",
          "data": {
            "image/png": "[encoded data removed]",
            "text/plain": [
              "<Figure size 432x288 with 1 Axes>"
            ]
          },
          "metadata": {
            "tags": []
          }
        }
      ]
    },
    {
      "cell_type": "code",
      "metadata": {
        "id": "0mwW52ZEhI3V",
        "colab_type": "code",
        "outputId": "e794df90-051d-44b1-d7ba-8ac5f5db570c",
        "colab": {
          "base_uri": "https://localhost:8080/",
          "height": 279
        }
      },
      "source": [
        "# Your code goes here \n",
        "# The code below is just meant as an example for you to plot the ROC curve.\n",
        "from sklearn.metrics import roc_curve\n",
        "import matplotlib.pyplot as plt\n",
        "\n",
        "# Remember to use the training data here!! \n",
        "Logmodel = LogisticRegression(C=3.0, max_iter=1000)\n",
        "Logmodel.fit(train[predictors], train[target])\n",
        "# And to use the test data here!!\n",
        "probs = Logmodel.predict_proba(test[predictors])[:, 1]\n",
        "fpr, tpr, thresholds = roc_curve(test[target], probs)\n",
        "plt.plot(fpr, tpr, label=\"Logistic Regression\")\n",
        "\n",
        "Desmodel = DecisionTreeClassifier(min_samples_leaf=64)\n",
        "Desmodel.fit(train[predictors], train[target])\n",
        "probs2 = Desmodel.predict_proba(test[predictors])[:, 1]\n",
        "fpr, tpr, thresholds = roc_curve(test[target], probs2)\n",
        "plt.plot(fpr, tpr, label=\"Descision Tree Classifier\")\n",
        "\n",
        "Knnmodel = KNeighborsClassifier(n_neighbors=20)\n",
        "Knnmodel.fit(train[predictors], train[target])\n",
        "probs3 = Knnmodel.predict_proba(test[predictors])[:, 1]\n",
        "fpr, tpr, thresholds = roc_curve(test[target], probs3)\n",
        "plt.plot(fpr, tpr, label=\"KNN\")\n",
        "\n",
        "plt.ylabel(\"True positive rate\")\n",
        "plt.xlabel(\"False positive rate\")\n",
        "plt.legend()\n",
        "plt.show()"
      ],
      "execution_count": 0,
      "outputs": [
        {
          "output_type": "display_data",
          "data": {
            "image/png": "[encoded data removed]",
            "text/plain": [
              "<Figure size 432x288 with 1 Axes>"
            ]
          },
          "metadata": {
            "tags": []
          }
        }
      ]
    },
    {
      "cell_type": "markdown",
      "metadata": {
        "id": "mUg9lTatyu1p",
        "colab_type": "text"
      },
      "source": [
        "I choose the best parameter for each model. The three of them are coming together. If the ROC Curve is closer to the upper left, it means the model is more accurate. I decided to use Logistic Regression as the best model. "
      ]
    },
    {
      "cell_type": "markdown",
      "metadata": {
        "id": "2r00V6XkhI3Y",
        "colab_type": "text"
      },
      "source": [
        "__5. What would be the potential benefit of stopping someone from leaving? HINT: Take a look at the description of the data and the retention offer.__"
      ]
    },
    {
      "cell_type": "markdown",
      "metadata": {
        "id": "WtrUs7YyhI3Z",
        "colab_type": "text"
      },
      "source": [
        "Put your answer here using Markdown.\n",
        "\n",
        "If we could stop someone from leaving, we can maintain our relationship with our existing customers and make more profits not only from new customers, but also from these non-leaving customers. And the profit we made of existing customers is higher than the retention cost, so we should provide them with the retention offer."
      ]
    },
    {
      "cell_type": "markdown",
      "metadata": {
        "id": "IEtxr02vhI3a",
        "colab_type": "text"
      },
      "source": [
        "__6. Split your training data into two sets, one with 90% of the data (the \"sub-training\" set) and another with 10% of the data (the validation set). Train the model you selected with the \"sub-training\" set, apply it to the validation set, and plot a profit curve by ranking customers according to their probability of churning. Make a recommendation of what people to target with the retention incentive according to this profit curve.__"
      ]
    },
    {
      "cell_type": "code",
      "metadata": {
        "id": "0yqMOqQihI3b",
        "colab_type": "code",
        "colab": {}
      },
      "source": [
        "# Your code goes here\n",
        "subtraining, subtest = train_test_split(train, test_size=0.1)"
      ],
      "execution_count": 0,
      "outputs": []
    },
    {
      "cell_type": "code",
      "metadata": {
        "id": "JRVqqGQT_-6X",
        "colab_type": "code",
        "colab": {}
      },
      "source": [
        "model = LogisticRegression(C=2.0, max_iter=1000)\n",
        "target = \"Churn_Yes\"\n",
        "predictors = subtraining.columns[subtraining.columns != target]\n",
        "model.fit(subtraining[predictors], subtraining[target])\n",
        "\n",
        "#Make the prediction\n",
        "probs = model.predict_proba(subtest[predictors])[:,1]"
      ],
      "execution_count": 0,
      "outputs": []
    },
    {
      "cell_type": "code",
      "metadata": {
        "id": "WqdO9WfMi5dt",
        "colab_type": "code",
        "colab": {}
      },
      "source": [
        "#offer_value = data[target] * data.MonthlyCharges * 12 - retention_cost\n",
        "copyset = subtest.copy()\n",
        "copyset['profit'] = copyset.apply(lambda x: (x['Churn_Yes']*12*x['MonthlyCharges'])-200, axis=1)\n",
        "sort_index = np.argsort(probs)[::-1] #the location of rank (from high to low)\n",
        "profit_ranked = np.array(copyset['profit'])[sort_index] \n",
        "profit_cum_ranked = np.cumsum(profit_ranked)"
      ],
      "execution_count": 0,
      "outputs": []
    },
    {
      "cell_type": "code",
      "metadata": {
        "id": "5F1f0-BXg-9r",
        "colab_type": "code",
        "outputId": "748dfd1c-d09a-4128-a86c-c8d773be3e60",
        "colab": {
          "base_uri": "https://localhost:8080/",
          "height": 295
        }
      },
      "source": [
        "prob_rank = np.sort(probs)\n",
        "plt.plot(prob_rank,copyset['profit'])\n",
        "plt.xlabel('Probobality of Churning')\n",
        "plt.ylabel('Profit')\n",
        "plt.title('Profit Curve')\n",
        "plt.show()"
      ],
      "execution_count": 0,
      "outputs": [
        {
          "output_type": "display_data",
          "data": {
            "image/png": "[encoded data removed]",
            "text/plain": [
              "<Figure size 432x288 with 1 Axes>"
            ]
          },
          "metadata": {
            "tags": []
          }
        }
      ]
    },
    {
      "cell_type": "code",
      "metadata": {
        "id": "8vigTW0eoEmb",
        "colab_type": "code",
        "outputId": "dde4ddb1-fb84-4612-c1d2-d57b554dbc40",
        "colab": {
          "base_uri": "https://localhost:8080/",
          "height": 295
        }
      },
      "source": [
        "plt.plot([i for i in range(len(profit_cum_ranked))], profit_cum_ranked)\n",
        "plt.xlabel('customers numbers')\n",
        "plt.ylabel('total profit')\n",
        "plt.title('Profit Curve')\n",
        "plt.show()"
      ],
      "execution_count": 0,
      "outputs": [
        {
          "output_type": "display_data",
          "data": {
            "image/png": "[encoded data removed]",
            "text/plain": [
              "<Figure size 432x288 with 1 Axes>"
            ]
          },
          "metadata": {
            "tags": []
          }
        }
      ]
    },
    {
      "cell_type": "code",
      "metadata": {
        "id": "Vh8nTU16dYyV",
        "colab_type": "code",
        "colab": {
          "base_uri": "https://localhost:8080/",
          "height": 295
        },
        "outputId": "9a3f8d7a-17c0-45ad-f2db-141677846bb5"
      },
      "source": [
        "plt.plot([i*100/(len(profit_cum_ranked)) for i in range(len(profit_cum_ranked))], profit_cum_ranked)\n",
        "plt.xlabel('number / % of customers targeted (ranked according to their probability of churning')\n",
        "plt.ylabel('total profit')\n",
        "plt.title('Profit Curve')\n",
        "plt.show()"
      ],
      "execution_count": 34,
      "outputs": [
        {
          "output_type": "display_data",
          "data": {
            "image/png": "[encoded data removed]",
            "text/plain": [
              "<Figure size 432x288 with 1 Axes>"
            ]
          },
          "metadata": {
            "tags": []
          }
        }
      ]
    },
    {
      "cell_type": "code",
      "metadata": {
        "id": "AxlI-DySgPQi",
        "colab_type": "code",
        "colab": {}
      },
      "source": [
        "probs_rank = probs[::-1]\n",
        "prob_location = int(len(probs_rank)*0.25)\n",
        "prob_threshold = probs_rank[location] #calculate the first 25% customers with probability of churning ranked "
      ],
      "execution_count": 0,
      "outputs": []
    },
    {
      "cell_type": "code",
      "metadata": {
        "id": "Wezx2PWbh1Tl",
        "colab_type": "code",
        "colab": {
          "base_uri": "https://localhost:8080/",
          "height": 34
        },
        "outputId": "01d35124-3939-4be4-d8fe-76e7aad1e73a"
      },
      "source": [
        "profit_loc = int(len(profit_cum_ranked)*0.25)\n",
        "profit_threshold = profit_cum_ranked[profit_loc]\n",
        "# print(profit_threshold)"
      ],
      "execution_count": 60,
      "outputs": [
        {
          "output_type": "stream",
          "text": [
            "58836.00000000001\n"
          ],
          "name": "stdout"
        }
      ]
    },
    {
      "cell_type": "code",
      "metadata": {
        "id": "pQnpRbk1e0o5",
        "colab_type": "code",
        "colab": {
          "base_uri": "https://localhost:8080/",
          "height": 51
        },
        "outputId": "ca95b5a6-f7f0-49d6-bcb9-6e99257f0c02"
      },
      "source": [
        "print('The first 25% customers, the threshold of probobility will be '+ str(prob_threshold))\n",
        "print('If we provide the retention offer to 25% customers, the total profits will be '+str(profit_threshold))"
      ],
      "execution_count": 62,
      "outputs": [
        {
          "output_type": "stream",
          "text": [
            "The first 25% customers, the threshold of probobility will be 0.4667674314503322\n",
            "If we provide the retention offer to 25% customers, the total profits will be 58836.00000000001\n"
          ],
          "name": "stdout"
        }
      ]
    },
    {
      "cell_type": "markdown",
      "metadata": {
        "id": "i9CMHyL144yM",
        "colab_type": "text"
      },
      "source": [
        "We can see that the profit increase at the begining with the number of customers increase. But then the total profit decrease because we provide the retention offer to some of the customers whose probability of churning is low. This will increase our cost, which leads to the decrease of profit. According to the chart, I plan to provide the retention offer to the first 40% of customers with probability of churning ranked. \n",
        "\n",
        "But we are allowed to only provide 25% of the customers. So the company should provide all the first 25% customers with probability of churning ranked.\n",
        "\n",
        " **And customer with probability of churning higher than 0.47 should be provided with this retention offer. Thus the profit we get will be 58836.**"
      ]
    },
    {
      "cell_type": "markdown",
      "metadata": {
        "id": "jJlRlKbGhI3e",
        "colab_type": "text"
      },
      "source": [
        "__7. Can you think of something better than ranking according to the probability of churning? If so, tell us what it is and plot a profit curve according to this new ranking. Compare the results of the new ranking with the results you got in the previous question. Are the results any better? Would your recommendation change?__"
      ]
    },
    {
      "cell_type": "code",
      "metadata": {
        "id": "_o7F9MHu-C_j",
        "colab_type": "code",
        "colab": {}
      },
      "source": [
        "sort_idx = np.argsort(copyset['MonthlyCharges'])[::-1] #the location of rank (from high to low)\n",
        "profit_ranked_mc = np.array(copyset['profit'])[sort_idx] # from high to low\n",
        "profit_cum_ranked_mc = np.cumsum(profit_ranked_mc)"
      ],
      "execution_count": 0,
      "outputs": []
    },
    {
      "cell_type": "code",
      "metadata": {
        "id": "Aq09SPSY9csd",
        "colab_type": "code",
        "outputId": "9a08477e-3dda-478b-f530-fc0c328c3b73",
        "colab": {
          "base_uri": "https://localhost:8080/",
          "height": 312
        }
      },
      "source": [
        "plt.plot([i for i in range(len(copyset['MonthlyCharges']))],profit_cum_ranked_mc)\n",
        "plt.xlabel('# of customers')\n",
        "plt.ylabel('Cumulative profit ranking by Monthly Charges')\n",
        "plt.title('Cumulative Profit Curve ranking by Montly Charges')"
      ],
      "execution_count": 0,
      "outputs": [
        {
          "output_type": "execute_result",
          "data": {
            "text/plain": [
              "Text(0.5, 1.0, 'Cumulative Profit Curve ranking by Montly Charges')"
            ]
          },
          "metadata": {
            "tags": []
          },
          "execution_count": 40
        },
        {
          "output_type": "display_data",
          "data": {
            "image/png": "[encoded data removed]",
            "text/plain": [
              "<Figure size 432x288 with 1 Axes>"
            ]
          },
          "metadata": {
            "tags": []
          }
        }
      ]
    },
    {
      "cell_type": "markdown",
      "metadata": {
        "id": "xQj5YYWbAX85",
        "colab_type": "text"
      },
      "source": [
        "From the chart, we can see that if we provided the retention offer whose monthly charges is higher, the profit we get is smaller than providing the retention offer to those probability of churning is higher. The highest profit is less than 40000 which is smaller than the profit we can in Q6. So, I think the probability of churning is more important to consider about than monthly charges."
      ]
    },
    {
      "cell_type": "markdown",
      "metadata": {
        "id": "FWi9dCPmkMDW",
        "colab_type": "text"
      },
      "source": [
        "**So the threshold I have chose is also the probability of churning higher than 0.47.**"
      ]
    },
    {
      "cell_type": "markdown",
      "metadata": {
        "id": "PCvdk_nrhI3i",
        "colab_type": "text"
      },
      "source": [
        "__8. Now the you have chosen a model and a threshold, it is time to evaluate the potential impact of your solution. Use the entire training data to train the model you selected, and then use the model on the test data to decide which customers to target with a retention offer. How much money do you estimate that your recommendation would have saved if we had given the retention offer to the customers in the test data?__"
      ]
    },
    {
      "cell_type": "code",
      "metadata": {
        "id": "gWrx7ZdlhI3l",
        "colab_type": "code",
        "colab": {}
      },
      "source": [
        "# Your code goes here\n",
        "model = LogisticRegression(C=2.0, max_iter=1000)\n",
        "target = \"Churn_Yes\"\n",
        "predictors = train.columns[train.columns != target]\n",
        "model.fit(train[predictors], train[target])\n",
        "\n",
        "#Make the prediction\n",
        "probs = model.predict_proba(test[predictors])[:,1]"
      ],
      "execution_count": 0,
      "outputs": []
    },
    {
      "cell_type": "code",
      "metadata": {
        "id": "YK_ylwKt1sHd",
        "colab_type": "code",
        "colab": {}
      },
      "source": [
        "test_copy = test.copy()\n",
        "test_copy['profit'] = test_copy.apply(lambda x: (x['Churn_Yes']*12*x['MonthlyCharges'])-200, axis=1)\n",
        "sort_index = np.argsort(probs)[::-1] \n",
        "total_profit_ranked = np.array(test_copy['profit'])[sort_index] \n",
        "total_profit_cum_ranked = np.cumsum(total_profit_ranked)"
      ],
      "execution_count": 0,
      "outputs": []
    },
    {
      "cell_type": "code",
      "metadata": {
        "id": "kT8gLVJJ_4sN",
        "colab_type": "code",
        "outputId": "d73b5fea-97a9-4800-dc4f-e18c56054bfe",
        "colab": {
          "base_uri": "https://localhost:8080/",
          "height": 295
        }
      },
      "source": [
        "plt.plot([i for i in range(len(total_profit_cum_ranked))], total_profit_cum_ranked)\n",
        "plt.xlabel('customers numbers')\n",
        "plt.ylabel('total profit')\n",
        "plt.title('Profit Curve')\n",
        "plt.show()"
      ],
      "execution_count": 75,
      "outputs": [
        {
          "output_type": "display_data",
          "data": {
            "image/png": "[encoded data removed]",
            "text/plain": [
              "<Figure size 432x288 with 1 Axes>"
            ]
          },
          "metadata": {
            "tags": []
          }
        }
      ]
    },
    {
      "cell_type": "code",
      "metadata": {
        "colab_type": "code",
        "outputId": "75ac1f67-151e-4446-a7bd-d248ae003501",
        "id": "WJNDgLYZke_9",
        "colab": {
          "base_uri": "https://localhost:8080/",
          "height": 295
        }
      },
      "source": [
        "plt.plot([i*100/(len(total_profit_cum_ranked)) for i in range(len(total_profit_cum_ranked))], total_profit_cum_ranked)\n",
        "plt.xlabel(' % of customers targeted (ranked according to their probability of churning')\n",
        "plt.ylabel('total profit')\n",
        "plt.title('Profit Curve')\n",
        "plt.show()"
      ],
      "execution_count": 76,
      "outputs": [
        {
          "output_type": "display_data",
          "data": {
            "image/png": "[encoded data removed]",
            "text/plain": [
              "<Figure size 432x288 with 1 Axes>"
            ]
          },
          "metadata": {
            "tags": []
          }
        }
      ]
    },
    {
      "cell_type": "code",
      "metadata": {
        "colab_type": "code",
        "id": "_c0FD7XXkESE",
        "colab": {}
      },
      "source": [
        "total_profit_loc = int(len(total_profit_cum_ranked)*0.25)\n",
        "total_profit_threshold = total_profit_cum_ranked[total_profit_loc]\n",
        "# print(profit_threshold)"
      ],
      "execution_count": 0,
      "outputs": []
    },
    {
      "cell_type": "code",
      "metadata": {
        "colab_type": "code",
        "id": "ufdTqS-0kBOl",
        "colab": {}
      },
      "source": [
        "total_probs_rank = probs[::-1]\n",
        "total_prob_location = int(len(total_probs_rank)*0.25)\n",
        "total_prob_threshold = total_probs_rank[total_prob_location] #calculate the first 25% customers with probability of churning ranked "
      ],
      "execution_count": 0,
      "outputs": []
    },
    {
      "cell_type": "code",
      "metadata": {
        "id": "Mrsn_twslEyg",
        "colab_type": "code",
        "colab": {
          "base_uri": "https://localhost:8080/",
          "height": 51
        },
        "outputId": "27693f72-6427-4229-a265-c1f4793cfb36"
      },
      "source": [
        "print('The first 25% customers, the threshold of probobility will be '+ str(total_prob_threshold))\n",
        "print('If we provide the retention offer to 25% customers, the total profits will be '+str(total_profit_threshold))"
      ],
      "execution_count": 79,
      "outputs": [
        {
          "output_type": "stream",
          "text": [
            "The first 25% customers, the threshold of probobility will be 0.6619658871511499\n",
            "If we provide the retention offer to 25% customers, the total profits will be 142055.2\n"
          ],
          "name": "stdout"
        }
      ]
    },
    {
      "cell_type": "markdown",
      "metadata": {
        "id": "tcnO2t7u5T-0",
        "colab_type": "text"
      },
      "source": [
        "I will gave this retention offer to all the first 25 percentile of the customers with probability of churning ranked to gain the most profit. \n",
        "\n",
        "The threshold of probobility of churning is 0.66, and the maximum profit is 142055."
      ]
    }
  ]
}