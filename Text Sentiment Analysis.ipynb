{
  "nbformat": 4,
  "nbformat_minor": 0,
  "metadata": {
    "kernelspec": {
      "display_name": "Python 3",
      "language": "python",
      "name": "python3"
    },
    "language_info": {
      "codemirror_mode": {
        "name": "ipython",
        "version": 3
      },
      "file_extension": ".py",
      "mimetype": "text/x-python",
      "name": "python",
      "nbconvert_exporter": "python",
      "pygments_lexer": "ipython3",
      "version": "3.7.4"
    },
    "colab": {
      "name": "HW_4_Wanting.ipynb",
      "provenance": [],
      "collapsed_sections": []
    }
  },
  "cells": [
    {
      "cell_type": "code",
      "metadata": {
        "collapsed": true,
        "id": "cRTB1pVE3e6J",
        "colab_type": "code",
        "outputId": "cd1ea4b7-a741-47ea-d2ce-5d1cc5fd34d7",
        "colab": {
          "base_uri": "https://localhost:8080/",
          "height": 170
        }
      },
      "source": [
        "#If opening in colab run this cell\n",
        "!git clone https://github.com/bwolfson2/foster_2020\n",
        "%cd foster_2020/Homeworks"
      ],
      "execution_count": 1,
      "outputs": [
        {
          "output_type": "stream",
          "text": [
            "Cloning into 'foster_2020'...\n",
            "remote: Enumerating objects: 188, done.\u001b[K\n",
            "remote: Counting objects: 100% (188/188), done.\u001b[K\n",
            "remote: Compressing objects: 100% (153/153), done.\u001b[K\n",
            "remote: Total 297 (delta 61), reused 155 (delta 29), pack-reused 109\u001b[K\n",
            "Receiving objects: 100% (297/297), 60.59 MiB | 15.53 MiB/s, done.\n",
            "Resolving deltas: 100% (100/100), done.\n",
            "Checking out files: 100% (123/123), done.\n",
            "/content/foster_2020/Homeworks\n"
          ],
          "name": "stdout"
        }
      ]
    },
    {
      "cell_type": "markdown",
      "metadata": {
        "id": "HlNUGdGF3e6O",
        "colab_type": "text"
      },
      "source": [
        "# IF OPENING IN COLAB, PLEASE REMEMBER TO SAVE THE NOTEBOOK TO YOUR GOOGLE DRIVE"
      ]
    },
    {
      "cell_type": "markdown",
      "metadata": {
        "id": "g7hE34jj3e6O",
        "colab_type": "text"
      },
      "source": [
        "To open notebook in Colab please click below:\n",
        "\n",
        "<a href=\"https://colab.research.google.com/github/bwolfson2/foster_2020/blob/master/Homeworks/HW_4.ipynb\" target=\"_parent\"> <img src=\"https://colab.research.google.com/assets/colab-badge.svg\" alt=\"Open In Colab\" /> </a>'"
      ]
    },
    {
      "cell_type": "markdown",
      "metadata": {
        "id": "re3Gc_ZA3e6P",
        "colab_type": "text"
      },
      "source": [
        "# Homework 4\n",
        "\n",
        "## Part I: Sentiment Analysis for Movie Reviews\n",
        "\n",
        "Sentiment analysis is a hot topic in data science right now due to the immense amount of user-generated text data being created every day online.  Businesses can now look at what is being said about them on review sites to get an idea of how well they are liked, how much they are disliked, and what they can do to improve.  While most of this data is unlabeled, some sites also ask users to provide a numerical or star rating.  This allows us to build a classifier for positive/negative reviews using the star rating as a label, which could then be hypothetically applied to unlabeled text.\n",
        "\n",
        "IMDB collects information about movies and lets users write their own reviews, as well as provide a 1-10 numerical rating.   The data for this assignment can be found in 'IMDB_TRAIN.csv' and IMDB_TEST.csv', the training and test data respectively. It consists of thousands of positive and negative reviews collected from IMDB.  The ratings have been binarized by labeling anything with score between 7 and 10 as “P” and anything between 1 and 4 with “N” (there are no “neutral” reviews in the data).  You will build and evaluate a system that classifies these movie reviews as positive or negative."
      ]
    },
    {
      "cell_type": "markdown",
      "metadata": {
        "id": "ySkvkfO83e6P",
        "colab_type": "text"
      },
      "source": [
        "__1. Load the training data and the test data. No points for this.__"
      ]
    },
    {
      "cell_type": "code",
      "metadata": {
        "id": "IbEV9kKn3e6Q",
        "colab_type": "code",
        "outputId": "1b244838-1ead-4351-b000-7b2eea831e97",
        "colab": {
          "base_uri": "https://localhost:8080/",
          "height": 204
        }
      },
      "source": [
        "import pandas as pd\n",
        "\n",
        "# Remember to change this to the path of your files.\n",
        "train_path = 'data/IMDB_TRAIN.csv'\n",
        "test_path = 'data/IMDB_TEST.csv'\n",
        "\n",
        "columns = ['text', 'class']\n",
        "df_imdb_train = pd.read_csv(train_path, names=columns)\n",
        "df_imdb_test = pd.read_csv(test_path, names=columns)\n",
        "df_imdb_train.head()"
      ],
      "execution_count": 2,
      "outputs": [
        {
          "output_type": "execute_result",
          "data": {
            "text/html": [
              "<div>\n",
              "<style scoped>\n",
              "    .dataframe tbody tr th:only-of-type {\n",
              "        vertical-align: middle;\n",
              "    }\n",
              "\n",
              "    .dataframe tbody tr th {\n",
              "        vertical-align: top;\n",
              "    }\n",
              "\n",
              "    .dataframe thead th {\n",
              "        text-align: right;\n",
              "    }\n",
              "</style>\n",
              "<table border=\"1\" class=\"dataframe\">\n",
              "  <thead>\n",
              "    <tr style=\"text-align: right;\">\n",
              "      <th></th>\n",
              "      <th>text</th>\n",
              "      <th>class</th>\n",
              "    </tr>\n",
              "  </thead>\n",
              "  <tbody>\n",
              "    <tr>\n",
              "      <th>0</th>\n",
              "      <td>'If you hit your teens in the 70s as I did you...</td>\n",
              "      <td>N</td>\n",
              "    </tr>\n",
              "    <tr>\n",
              "      <th>1</th>\n",
              "      <td>'Excellent endearing film with Peter Falk and ...</td>\n",
              "      <td>P</td>\n",
              "    </tr>\n",
              "    <tr>\n",
              "      <th>2</th>\n",
              "      <td>'Oh dear what a horrid movie. The production w...</td>\n",
              "      <td>N</td>\n",
              "    </tr>\n",
              "    <tr>\n",
              "      <th>3</th>\n",
              "      <td>'This is a terrible production of Bartleby tho...</td>\n",
              "      <td>N</td>\n",
              "    </tr>\n",
              "    <tr>\n",
              "      <th>4</th>\n",
              "      <td>'I actually have a fondness for Christopher Le...</td>\n",
              "      <td>N</td>\n",
              "    </tr>\n",
              "  </tbody>\n",
              "</table>\n",
              "</div>"
            ],
            "text/plain": [
              "                                                text class\n",
              "0  'If you hit your teens in the 70s as I did you...     N\n",
              "1  'Excellent endearing film with Peter Falk and ...     P\n",
              "2  'Oh dear what a horrid movie. The production w...     N\n",
              "3  'This is a terrible production of Bartleby tho...     N\n",
              "4  'I actually have a fondness for Christopher Le...     N"
            ]
          },
          "metadata": {
            "tags": []
          },
          "execution_count": 2
        }
      ]
    },
    {
      "cell_type": "markdown",
      "metadata": {
        "id": "B2IBmw713e6T",
        "colab_type": "text"
      },
      "source": [
        "__2. Build a Bernoulli Naive Bayes model to classify reviews according to their sentiment using a binary count vectorizer (check out the text mining module in the class notebooks if you do not know what this question is talking about). Test its accuracy on the test data. Is it good compared to just predicting a positive sentiment for all reviews?__"
      ]
    },
    {
      "cell_type": "code",
      "metadata": {
        "id": "-hdvQ3SGV5MI",
        "colab_type": "code",
        "colab": {}
      },
      "source": [
        "import matplotlib.pylab as plt\n",
        "from sklearn.feature_extraction.text import CountVectorizer\n",
        "from sklearn.naive_bayes import BernoulliNB\n",
        "from sklearn import metrics"
      ],
      "execution_count": 0,
      "outputs": []
    },
    {
      "cell_type": "code",
      "metadata": {
        "id": "zuirmJcnMWsP",
        "colab_type": "code",
        "outputId": "ba803bdf-0bdf-456b-8eca-8d050ed4b5c1",
        "colab": {
          "base_uri": "https://localhost:8080/",
          "height": 51
        }
      },
      "source": [
        "print(df_imdb_train.isnull().values.any())\n",
        "print(df_imdb_test.isnull().values.any())  #find if there are null values in the train and test data "
      ],
      "execution_count": 4,
      "outputs": [
        {
          "output_type": "stream",
          "text": [
            "False\n",
            "True\n"
          ],
          "name": "stdout"
        }
      ]
    },
    {
      "cell_type": "code",
      "metadata": {
        "id": "xzv7A6fuNHRq",
        "colab_type": "code",
        "outputId": "8c8c4fd1-5e16-43a7-a68a-4a8403c500a6",
        "colab": {
          "base_uri": "https://localhost:8080/",
          "height": 68
        }
      },
      "source": [
        "df_imdb_test.isnull().sum()"
      ],
      "execution_count": 5,
      "outputs": [
        {
          "output_type": "execute_result",
          "data": {
            "text/plain": [
              "text     0\n",
              "class    1\n",
              "dtype: int64"
            ]
          },
          "metadata": {
            "tags": []
          },
          "execution_count": 5
        }
      ]
    },
    {
      "cell_type": "code",
      "metadata": {
        "id": "a-xx0pV4M7dy",
        "colab_type": "code",
        "colab": {}
      },
      "source": [
        "df_imdb_test = df_imdb_test.dropna()"
      ],
      "execution_count": 0,
      "outputs": []
    },
    {
      "cell_type": "code",
      "metadata": {
        "id": "VvAh6Wlj3e6T",
        "colab_type": "code",
        "outputId": "6803d59e-dd2b-4788-f81a-b3fde7153fd3",
        "colab": {
          "base_uri": "https://localhost:8080/",
          "height": 119
        }
      },
      "source": [
        "binary_vectorizer = CountVectorizer(binary=True)\n",
        "binary_vectorizer.fit(df_imdb_train['text'])"
      ],
      "execution_count": 7,
      "outputs": [
        {
          "output_type": "execute_result",
          "data": {
            "text/plain": [
              "CountVectorizer(analyzer='word', binary=True, decode_error='strict',\n",
              "                dtype=<class 'numpy.int64'>, encoding='utf-8', input='content',\n",
              "                lowercase=True, max_df=1.0, max_features=None, min_df=1,\n",
              "                ngram_range=(1, 1), preprocessor=None, stop_words=None,\n",
              "                strip_accents=None, token_pattern='(?u)\\\\b\\\\w\\\\w+\\\\b',\n",
              "                tokenizer=None, vocabulary=None)"
            ]
          },
          "metadata": {
            "tags": []
          },
          "execution_count": 7
        }
      ]
    },
    {
      "cell_type": "code",
      "metadata": {
        "id": "yOscT9q_9nSX",
        "colab_type": "code",
        "outputId": "373fc318-3ca9-409b-90ae-a2b96142f8fc",
        "colab": {
          "base_uri": "https://localhost:8080/",
          "height": 187
        }
      },
      "source": [
        "vocabulary_list = list(zip( binary_vectorizer.vocabulary_.keys(), binary_vectorizer.vocabulary_.values()) )\n",
        "vocabulary_list[0:10]"
      ],
      "execution_count": 8,
      "outputs": [
        {
          "output_type": "execute_result",
          "data": {
            "text/plain": [
              "[('if', 35904),\n",
              " ('you', 81954),\n",
              " ('hit', 34359),\n",
              " ('your', 81990),\n",
              " ('teens', 72629),\n",
              " ('in', 36417),\n",
              " ('the', 73167),\n",
              " ('70s', 1044),\n",
              " ('as', 4999),\n",
              " ('did', 20207)]"
            ]
          },
          "metadata": {
            "tags": []
          },
          "execution_count": 8
        }
      ]
    },
    {
      "cell_type": "code",
      "metadata": {
        "id": "neQJ1TJI-LqD",
        "colab_type": "code",
        "colab": {}
      },
      "source": [
        "X_train_binary = binary_vectorizer.transform(df_imdb_train['text'])\n",
        "X_test_binary = binary_vectorizer.transform(df_imdb_test['text'])"
      ],
      "execution_count": 0,
      "outputs": []
    },
    {
      "cell_type": "code",
      "metadata": {
        "id": "02U91QqG-cDM",
        "colab_type": "code",
        "outputId": "4edc618e-f433-4310-97c3-a65e7cd03789",
        "colab": {
          "base_uri": "https://localhost:8080/",
          "height": 51
        }
      },
      "source": [
        "X_train_binary"
      ],
      "execution_count": 10,
      "outputs": [
        {
          "output_type": "execute_result",
          "data": {
            "text/plain": [
              "<25000x82549 sparse matrix of type '<class 'numpy.int64'>'\n",
              "\twith 3461531 stored elements in Compressed Sparse Row format>"
            ]
          },
          "metadata": {
            "tags": []
          },
          "execution_count": 10
        }
      ]
    },
    {
      "cell_type": "code",
      "metadata": {
        "id": "nZk3fhBvVmUO",
        "colab_type": "code",
        "outputId": "64cb2c7a-aba6-449e-b85d-981c0de347f3",
        "colab": {
          "base_uri": "https://localhost:8080/",
          "height": 357
        }
      },
      "source": [
        "X_test_binary[0:20, 13180:13200].todense()"
      ],
      "execution_count": 11,
      "outputs": [
        {
          "output_type": "execute_result",
          "data": {
            "text/plain": [
              "matrix([[0, 0, 0, 0, 0, 0, 0, 0, 0, 0, 0, 0, 0, 0, 0, 0, 0, 0, 0, 0],\n",
              "        [0, 0, 0, 0, 0, 0, 0, 0, 0, 0, 0, 0, 0, 0, 0, 0, 0, 0, 1, 0],\n",
              "        [0, 0, 0, 0, 0, 0, 0, 0, 0, 0, 0, 0, 0, 0, 0, 0, 0, 0, 0, 0],\n",
              "        [0, 0, 0, 0, 0, 0, 0, 0, 0, 0, 0, 0, 0, 0, 0, 0, 0, 0, 0, 0],\n",
              "        [0, 0, 0, 0, 0, 0, 0, 0, 0, 0, 0, 0, 0, 0, 0, 0, 0, 0, 0, 0],\n",
              "        [0, 0, 0, 0, 0, 0, 0, 0, 0, 0, 0, 0, 0, 0, 0, 0, 0, 0, 0, 0],\n",
              "        [0, 0, 0, 0, 0, 0, 0, 0, 0, 0, 0, 0, 0, 0, 0, 0, 0, 0, 0, 0],\n",
              "        [0, 0, 0, 0, 0, 0, 0, 0, 0, 0, 0, 0, 0, 0, 0, 0, 0, 0, 0, 0],\n",
              "        [0, 0, 0, 0, 0, 0, 0, 0, 0, 0, 0, 0, 0, 0, 0, 0, 0, 0, 0, 0],\n",
              "        [0, 0, 0, 0, 0, 0, 0, 0, 0, 0, 0, 0, 0, 0, 0, 0, 0, 0, 0, 0],\n",
              "        [0, 0, 0, 0, 0, 0, 0, 0, 0, 0, 0, 0, 0, 0, 0, 0, 0, 0, 0, 0],\n",
              "        [0, 0, 0, 0, 0, 0, 0, 0, 0, 0, 0, 0, 0, 0, 0, 0, 0, 0, 0, 0],\n",
              "        [0, 0, 0, 0, 0, 0, 0, 0, 0, 0, 0, 0, 0, 0, 0, 0, 0, 0, 0, 0],\n",
              "        [0, 0, 0, 0, 0, 0, 0, 0, 0, 0, 0, 0, 0, 0, 0, 0, 0, 0, 0, 0],\n",
              "        [0, 0, 0, 0, 0, 0, 0, 0, 0, 0, 0, 0, 0, 0, 0, 0, 0, 0, 0, 0],\n",
              "        [0, 0, 0, 0, 0, 0, 0, 0, 0, 0, 0, 0, 0, 0, 0, 0, 0, 0, 0, 0],\n",
              "        [0, 0, 0, 0, 0, 0, 0, 0, 0, 0, 0, 0, 0, 0, 0, 0, 0, 0, 0, 0],\n",
              "        [0, 0, 0, 0, 0, 0, 0, 0, 0, 0, 0, 0, 0, 0, 0, 0, 0, 0, 0, 0],\n",
              "        [0, 0, 0, 0, 0, 0, 0, 0, 0, 0, 0, 0, 0, 0, 0, 0, 0, 0, 0, 0],\n",
              "        [0, 0, 0, 0, 0, 0, 0, 0, 0, 0, 0, 0, 0, 0, 0, 0, 0, 0, 0, 0]])"
            ]
          },
          "metadata": {
            "tags": []
          },
          "execution_count": 11
        }
      ]
    },
    {
      "cell_type": "code",
      "metadata": {
        "id": "BzSCy7YqVy23",
        "colab_type": "code",
        "colab": {}
      },
      "source": [
        "def get_model_roc(models, Xs_test, names, Y_test):\n",
        "    plt.rcParams['figure.dpi'] = 100\n",
        "    for i in range(len(models)):\n",
        "        model = models[i]\n",
        "        X_test = Xs_test[i]\n",
        "        name = names[i]\n",
        "        probs = model.predict_proba(X_test)[:,1]\n",
        "        fpr, tpr, thresholds = metrics.roc_curve(Y_test, probs, pos_label='P')\n",
        "        plt.plot(fpr, tpr, label=name)\n",
        "        plt.plot([0, 1], [0, 1], linestyle='dashed', color='black')\n",
        "        plt.xlabel(\"False Positive Rate\")\n",
        "        plt.ylabel(\"True Positive Rate\")\n",
        "        plt.title(\"ROC Curve\")\n",
        "        print (\"AUC for {0} = {1:.3f}\".format(name, metrics.roc_auc_score(Y_test, probs)))\n",
        "    plt.legend()\n",
        "    plt.show()\n"
      ],
      "execution_count": 0,
      "outputs": []
    },
    {
      "cell_type": "code",
      "metadata": {
        "id": "LVEn5vDRBHLq",
        "colab_type": "code",
        "outputId": "7b061b8f-c540-4f68-ff85-19db95c0d893",
        "colab": {
          "base_uri": "https://localhost:8080/",
          "height": 34
        }
      },
      "source": [
        "model_nb = BernoulliNB()\n",
        "model_nb.fit(X_train_binary, df_imdb_train['class'])"
      ],
      "execution_count": 13,
      "outputs": [
        {
          "output_type": "execute_result",
          "data": {
            "text/plain": [
              "BernoulliNB(alpha=1.0, binarize=0.0, class_prior=None, fit_prior=True)"
            ]
          },
          "metadata": {
            "tags": []
          },
          "execution_count": 13
        }
      ]
    },
    {
      "cell_type": "code",
      "metadata": {
        "id": "b0VRVLwCGOdT",
        "colab_type": "code",
        "outputId": "cf1f3239-9f03-4015-d358-24f47dafa330",
        "colab": {
          "base_uri": "https://localhost:8080/",
          "height": 421
        }
      },
      "source": [
        "get_model_roc([model_nb], [X_test_binary], ['Naive Bayes'], df_imdb_test['class'])"
      ],
      "execution_count": 14,
      "outputs": [
        {
          "output_type": "stream",
          "text": [
            "AUC for Naive Bayes = 0.969\n"
          ],
          "name": "stdout"
        },
        {
          "output_type": "display_data",
          "data": {
            "image/png": "[encoded data removed]",
            "text/plain": [
              "<Figure size 600x400 with 1 Axes>"
            ]
          },
          "metadata": {
            "tags": [],
            "needs_background": "light"
          }
        }
      ]
    },
    {
      "cell_type": "code",
      "metadata": {
        "id": "CSHN4XcQ7i1G",
        "colab_type": "code",
        "outputId": "14f3e2da-819b-4ba0-925b-649711289f87",
        "colab": {
          "base_uri": "https://localhost:8080/",
          "height": 34
        }
      },
      "source": [
        "from sklearn.metrics import accuracy_score\n",
        "print (\"Accuracy on testing = %.4f\" % accuracy_score(model_nb.predict(X_test_binary), df_imdb_test['class']) )"
      ],
      "execution_count": 15,
      "outputs": [
        {
          "output_type": "stream",
          "text": [
            "Accuracy on testing = 0.9032\n"
          ],
          "name": "stdout"
        }
      ]
    },
    {
      "cell_type": "markdown",
      "metadata": {
        "id": "kwthMrJD-Ppe",
        "colab_type": "text"
      },
      "source": [
        "The accuracy is very high. "
      ]
    },
    {
      "cell_type": "code",
      "metadata": {
        "id": "xZSH54OTvlIR",
        "colab_type": "code",
        "colab": {
          "base_uri": "https://localhost:8080/",
          "height": 34
        },
        "outputId": "1d570e36-be80-4416-a77f-97d4c6fc2d92"
      },
      "source": [
        "base_rate = (len(df_imdb_test[df_imdb_test['class']=='P'])/len(df_imdb_test))*100\n",
        "print('If we only predict the positive sentiment for all reviews, the accuracy is '+ str(base_rate) +'%')"
      ],
      "execution_count": 18,
      "outputs": [
        {
          "output_type": "stream",
          "text": [
            "If we only predict the positive sentiment for all reviews, the accuracy is 49.88822214378162%\n"
          ],
          "name": "stdout"
        }
      ]
    },
    {
      "cell_type": "markdown",
      "metadata": {
        "id": "0bSWYWaU3e6W",
        "colab_type": "text"
      },
      "source": [
        "__3. Pick a few reviews in the test set that were incorrectly classified and read them through.  Are there any words in these misclassified reviews that may have misled the classifier?  Explain with at least three examples for each type of error (i.e., false positive and false negative).__\n",
        "* For example: Instance number X contains the sentence, “Even her worst . . . I will stop here to avoid the spoiler.”  Even though this is actually positive, it was classified as a negative review; I would guess that this is due to the word “worst” in the review."
      ]
    },
    {
      "cell_type": "code",
      "metadata": {
        "id": "MbJqFfG53e6W",
        "colab_type": "code",
        "colab": {}
      },
      "source": [
        "# Your answer here.\n",
        "preds = model_nb.predict(X_test_binary)\n",
        "df_imdb_test['preds'] = preds"
      ],
      "execution_count": 0,
      "outputs": []
    },
    {
      "cell_type": "code",
      "metadata": {
        "id": "2jmcNrodVUog",
        "colab_type": "code",
        "outputId": "34fd3018-7f91-46a7-8135-653fb3fc7aa1",
        "colab": {
          "base_uri": "https://localhost:8080/",
          "height": 419
        }
      },
      "source": [
        "df_imdb_test"
      ],
      "execution_count": 0,
      "outputs": [
        {
          "output_type": "execute_result",
          "data": {
            "text/html": [
              "<div>\n",
              "<style scoped>\n",
              "    .dataframe tbody tr th:only-of-type {\n",
              "        vertical-align: middle;\n",
              "    }\n",
              "\n",
              "    .dataframe tbody tr th {\n",
              "        vertical-align: top;\n",
              "    }\n",
              "\n",
              "    .dataframe thead th {\n",
              "        text-align: right;\n",
              "    }\n",
              "</style>\n",
              "<table border=\"1\" class=\"dataframe\">\n",
              "  <thead>\n",
              "    <tr style=\"text-align: right;\">\n",
              "      <th></th>\n",
              "      <th>text</th>\n",
              "      <th>class</th>\n",
              "      <th>preds</th>\n",
              "    </tr>\n",
              "  </thead>\n",
              "  <tbody>\n",
              "    <tr>\n",
              "      <th>0</th>\n",
              "      <td>'One of the first of the best musicals Anchors...</td>\n",
              "      <td>P</td>\n",
              "      <td>P</td>\n",
              "    </tr>\n",
              "    <tr>\n",
              "      <th>1</th>\n",
              "      <td>'Visually disjointed and full of itself the di...</td>\n",
              "      <td>N</td>\n",
              "      <td>N</td>\n",
              "    </tr>\n",
              "    <tr>\n",
              "      <th>2</th>\n",
              "      <td>'These type of movies about young teenagers st...</td>\n",
              "      <td>P</td>\n",
              "      <td>P</td>\n",
              "    </tr>\n",
              "    <tr>\n",
              "      <th>3</th>\n",
              "      <td>'I would rather of had my eyes gouged out with...</td>\n",
              "      <td>N</td>\n",
              "      <td>N</td>\n",
              "    </tr>\n",
              "    <tr>\n",
              "      <th>4</th>\n",
              "      <td>'The title says it all. Tail Gunner Joe was a ...</td>\n",
              "      <td>N</td>\n",
              "      <td>N</td>\n",
              "    </tr>\n",
              "    <tr>\n",
              "      <th>...</th>\n",
              "      <td>...</td>\n",
              "      <td>...</td>\n",
              "      <td>...</td>\n",
              "    </tr>\n",
              "    <tr>\n",
              "      <th>8495</th>\n",
              "      <td>'Alright friends a serious movie buff is expec...</td>\n",
              "      <td>N</td>\n",
              "      <td>N</td>\n",
              "    </tr>\n",
              "    <tr>\n",
              "      <th>8496</th>\n",
              "      <td>'I found this film embarrassing to watch. I fe...</td>\n",
              "      <td>N</td>\n",
              "      <td>N</td>\n",
              "    </tr>\n",
              "    <tr>\n",
              "      <th>8497</th>\n",
              "      <td>'To put it simply I am not fond of westerns. A...</td>\n",
              "      <td>N</td>\n",
              "      <td>N</td>\n",
              "    </tr>\n",
              "    <tr>\n",
              "      <th>8498</th>\n",
              "      <td>'Some of these viewer comments are just ridicu...</td>\n",
              "      <td>N</td>\n",
              "      <td>N</td>\n",
              "    </tr>\n",
              "    <tr>\n",
              "      <th>8499</th>\n",
              "      <td>'Sometimes a premise starts out good but becau...</td>\n",
              "      <td>N</td>\n",
              "      <td>N</td>\n",
              "    </tr>\n",
              "  </tbody>\n",
              "</table>\n",
              "<p>8499 rows × 3 columns</p>\n",
              "</div>"
            ],
            "text/plain": [
              "                                                   text class preds\n",
              "0     'One of the first of the best musicals Anchors...     P     P\n",
              "1     'Visually disjointed and full of itself the di...     N     N\n",
              "2     'These type of movies about young teenagers st...     P     P\n",
              "3     'I would rather of had my eyes gouged out with...     N     N\n",
              "4     'The title says it all. Tail Gunner Joe was a ...     N     N\n",
              "...                                                 ...   ...   ...\n",
              "8495  'Alright friends a serious movie buff is expec...     N     N\n",
              "8496  'I found this film embarrassing to watch. I fe...     N     N\n",
              "8497  'To put it simply I am not fond of westerns. A...     N     N\n",
              "8498  'Some of these viewer comments are just ridicu...     N     N\n",
              "8499  'Sometimes a premise starts out good but becau...     N     N\n",
              "\n",
              "[8499 rows x 3 columns]"
            ]
          },
          "metadata": {
            "tags": []
          },
          "execution_count": 71
        }
      ]
    },
    {
      "cell_type": "code",
      "metadata": {
        "id": "ekOGxasiidq1",
        "colab_type": "code",
        "colab": {}
      },
      "source": [
        "diff = df_imdb_test[df_imdb_test['class'] != df_imdb_test['preds']]"
      ],
      "execution_count": 0,
      "outputs": []
    },
    {
      "cell_type": "code",
      "metadata": {
        "id": "Z1VQMah2g3fG",
        "colab_type": "code",
        "outputId": "baaf55c3-0cea-482d-eb47-2f884f8fbe83",
        "colab": {
          "base_uri": "https://localhost:8080/",
          "height": 419
        }
      },
      "source": [
        "diff"
      ],
      "execution_count": 0,
      "outputs": [
        {
          "output_type": "execute_result",
          "data": {
            "text/html": [
              "<div>\n",
              "<style scoped>\n",
              "    .dataframe tbody tr th:only-of-type {\n",
              "        vertical-align: middle;\n",
              "    }\n",
              "\n",
              "    .dataframe tbody tr th {\n",
              "        vertical-align: top;\n",
              "    }\n",
              "\n",
              "    .dataframe thead th {\n",
              "        text-align: right;\n",
              "    }\n",
              "</style>\n",
              "<table border=\"1\" class=\"dataframe\">\n",
              "  <thead>\n",
              "    <tr style=\"text-align: right;\">\n",
              "      <th></th>\n",
              "      <th>text</th>\n",
              "      <th>class</th>\n",
              "      <th>preds</th>\n",
              "    </tr>\n",
              "  </thead>\n",
              "  <tbody>\n",
              "    <tr>\n",
              "      <th>24</th>\n",
              "      <td>'CREEP is a straight up serious horror film se...</td>\n",
              "      <td>P</td>\n",
              "      <td>N</td>\n",
              "    </tr>\n",
              "    <tr>\n",
              "      <th>26</th>\n",
              "      <td>'Val Kilmer solid performance. Dylan McDermott...</td>\n",
              "      <td>N</td>\n",
              "      <td>P</td>\n",
              "    </tr>\n",
              "    <tr>\n",
              "      <th>27</th>\n",
              "      <td>'A surprisingly good movie! It has quite a few...</td>\n",
              "      <td>P</td>\n",
              "      <td>N</td>\n",
              "    </tr>\n",
              "    <tr>\n",
              "      <th>36</th>\n",
              "      <td>'John Wayne &amp; Albert Dekker compete for oil ri...</td>\n",
              "      <td>N</td>\n",
              "      <td>P</td>\n",
              "    </tr>\n",
              "    <tr>\n",
              "      <th>49</th>\n",
              "      <td>'This movie has recieved horrible ratings from...</td>\n",
              "      <td>P</td>\n",
              "      <td>N</td>\n",
              "    </tr>\n",
              "    <tr>\n",
              "      <th>...</th>\n",
              "      <td>...</td>\n",
              "      <td>...</td>\n",
              "      <td>...</td>\n",
              "    </tr>\n",
              "    <tr>\n",
              "      <th>8403</th>\n",
              "      <td>'This movie is without a doubt a perfect 10/10...</td>\n",
              "      <td>P</td>\n",
              "      <td>N</td>\n",
              "    </tr>\n",
              "    <tr>\n",
              "      <th>8429</th>\n",
              "      <td>'Doctor Mordrid is one of those rare films tha...</td>\n",
              "      <td>P</td>\n",
              "      <td>N</td>\n",
              "    </tr>\n",
              "    <tr>\n",
              "      <th>8474</th>\n",
              "      <td>'I just got this video used and I was watching...</td>\n",
              "      <td>P</td>\n",
              "      <td>N</td>\n",
              "    </tr>\n",
              "    <tr>\n",
              "      <th>8481</th>\n",
              "      <td>'I did enjoy this film I thought it ended up b...</td>\n",
              "      <td>P</td>\n",
              "      <td>N</td>\n",
              "    </tr>\n",
              "    <tr>\n",
              "      <th>8488</th>\n",
              "      <td>'Leslie Sands stilted play Deadlock becomes a ...</td>\n",
              "      <td>N</td>\n",
              "      <td>P</td>\n",
              "    </tr>\n",
              "  </tbody>\n",
              "</table>\n",
              "<p>823 rows × 3 columns</p>\n",
              "</div>"
            ],
            "text/plain": [
              "                                                   text class preds\n",
              "24    'CREEP is a straight up serious horror film se...     P     N\n",
              "26    'Val Kilmer solid performance. Dylan McDermott...     N     P\n",
              "27    'A surprisingly good movie! It has quite a few...     P     N\n",
              "36    'John Wayne & Albert Dekker compete for oil ri...     N     P\n",
              "49    'This movie has recieved horrible ratings from...     P     N\n",
              "...                                                 ...   ...   ...\n",
              "8403  'This movie is without a doubt a perfect 10/10...     P     N\n",
              "8429  'Doctor Mordrid is one of those rare films tha...     P     N\n",
              "8474  'I just got this video used and I was watching...     P     N\n",
              "8481  'I did enjoy this film I thought it ended up b...     P     N\n",
              "8488  'Leslie Sands stilted play Deadlock becomes a ...     N     P\n",
              "\n",
              "[823 rows x 3 columns]"
            ]
          },
          "metadata": {
            "tags": []
          },
          "execution_count": 73
        }
      ]
    },
    {
      "cell_type": "code",
      "metadata": {
        "id": "s6xuLyIGYRKT",
        "colab_type": "code",
        "outputId": "cbf9db37-8b04-4c95-e179-47f186335a61",
        "colab": {
          "base_uri": "https://localhost:8080/",
          "height": 71
        }
      },
      "source": [
        "pd.set_option('display.max_colwidth', -1)"
      ],
      "execution_count": 0,
      "outputs": [
        {
          "output_type": "stream",
          "text": [
            "/usr/local/lib/python3.6/dist-packages/ipykernel_launcher.py:1: FutureWarning: Passing a negative integer is deprecated in version 1.0 and will not be supported in future version. Instead, use None to not limit the column width.\n",
            "  \"\"\"Entry point for launching an IPython kernel.\n"
          ],
          "name": "stderr"
        }
      ]
    },
    {
      "cell_type": "code",
      "metadata": {
        "id": "32XgjLQDYojS",
        "colab_type": "code",
        "outputId": "6f853e0a-b3cd-4e17-d045-bc5450e2caa0",
        "colab": {
          "base_uri": "https://localhost:8080/",
          "height": 363
        }
      },
      "source": [
        "diff[diff['preds']=='N'].head(3)"
      ],
      "execution_count": 0,
      "outputs": [
        {
          "output_type": "execute_result",
          "data": {
            "text/html": [
              "<div>\n",
              "<style scoped>\n",
              "    .dataframe tbody tr th:only-of-type {\n",
              "        vertical-align: middle;\n",
              "    }\n",
              "\n",
              "    .dataframe tbody tr th {\n",
              "        vertical-align: top;\n",
              "    }\n",
              "\n",
              "    .dataframe thead th {\n",
              "        text-align: right;\n",
              "    }\n",
              "</style>\n",
              "<table border=\"1\" class=\"dataframe\">\n",
              "  <thead>\n",
              "    <tr style=\"text-align: right;\">\n",
              "      <th></th>\n",
              "      <th>text</th>\n",
              "      <th>class</th>\n",
              "      <th>preds</th>\n",
              "    </tr>\n",
              "  </thead>\n",
              "  <tbody>\n",
              "    <tr>\n",
              "      <th>24</th>\n",
              "      <td>'CREEP is a straight up serious horror film set in real time that wants nothing more than to just show people get attacked in a empty subway platform by a mutant for 85 minutes. And it does just that. Nothing more nothing less. Director Christopher Smith draws out the drama a far as he plausibly can by introducing a series of characters that would actually have a reason to be in the subway after it is locked. He also leaves the origins of the titular Creep deliberately vague (unlawful experiments happening in the 60s underground are hinted at) and that little bit of mystery works for the most part. Sadly he undermines himself toward the end by actually holding back from a twist ending where more genetic malformations would appear (they are hinted at as well). Yes you heard me right - I wanted a clichéd twist ending! Franka (RUN LOLA RUN) Potente is good as the terrorized female lead and the rest of the cast is fine.'</td>\n",
              "      <td>P</td>\n",
              "      <td>N</td>\n",
              "    </tr>\n",
              "    <tr>\n",
              "      <th>27</th>\n",
              "      <td>'A surprisingly good movie! It has quite a few good jokes thru out the whole movie. The only negative thing is that some scenes go to the extremes to show just how stupid the two main characters are. We get it stupid blondes get on with it!  The plot just barely dodges being called corny. And boobies are always a plus altho the movie for some strange reason doesnt play with that card very much even tho the plot line introduces two black haired women who act as the evil counter part of our two blondes. So all in all a good movie to watch. I almost gave it an 8/10 but lets not get crazy.'</td>\n",
              "      <td>P</td>\n",
              "      <td>N</td>\n",
              "    </tr>\n",
              "    <tr>\n",
              "      <th>49</th>\n",
              "      <td>'This movie has recieved horrible ratings from just about everyone who has voted here but i am here to say if you like movies like Dude Wheres my Car and Dumb and Dumber this movie is for you. If your into movies like Citizen Kane and Casablanca id have to sugest you in a different angle. Yet i still love this movie and everything about it even if it is kind of kiddy this is one of the few movies me and my freinds have been able to keep watching over the years and quote whenever possible. GREAT MOVIE. This movie should the AFIs number 1 because its so friggin high class. The only problem with this movie is you may have trouble seeing it because it was a made for tv movie on a channel that no longer exists. So i dont know how to get this movie id like to buy it for dvd but i cant find it anywhere. I still have it taped from when it was first on you can come over if you want and watch it bute i might be sleeping. this movie rocks and thats basicly all you need to know.'</td>\n",
              "      <td>P</td>\n",
              "      <td>N</td>\n",
              "    </tr>\n",
              "  </tbody>\n",
              "</table>\n",
              "</div>"
            ],
            "text/plain": [
              "                                                                                                                                                                                                                                                                                                                                                                                                                                                                                                                                                                                                                                                                                                                                                                                                                                                                                                                                                                                                                      text  ... preds\n",
              "24  'CREEP is a straight up serious horror film set in real time that wants nothing more than to just show people get attacked in a empty subway platform by a mutant for 85 minutes. And it does just that. Nothing more nothing less. Director Christopher Smith draws out the drama a far as he plausibly can by introducing a series of characters that would actually have a reason to be in the subway after it is locked. He also leaves the origins of the titular Creep deliberately vague (unlawful experiments happening in the 60s underground are hinted at) and that little bit of mystery works for the most part. Sadly he undermines himself toward the end by actually holding back from a twist ending where more genetic malformations would appear (they are hinted at as well). Yes you heard me right - I wanted a clichéd twist ending! Franka (RUN LOLA RUN) Potente is good as the terrorized female lead and the rest of the cast is fine.'                                                      ...  N   \n",
              "27  'A surprisingly good movie! It has quite a few good jokes thru out the whole movie. The only negative thing is that some scenes go to the extremes to show just how stupid the two main characters are. We get it stupid blondes get on with it!  The plot just barely dodges being called corny. And boobies are always a plus altho the movie for some strange reason doesnt play with that card very much even tho the plot line introduces two black haired women who act as the evil counter part of our two blondes. So all in all a good movie to watch. I almost gave it an 8/10 but lets not get crazy.'                                                                                                                                                                                                                                                                                                                                                                                                       ...  N   \n",
              "49  'This movie has recieved horrible ratings from just about everyone who has voted here but i am here to say if you like movies like Dude Wheres my Car and Dumb and Dumber this movie is for you. If your into movies like Citizen Kane and Casablanca id have to sugest you in a different angle. Yet i still love this movie and everything about it even if it is kind of kiddy this is one of the few movies me and my freinds have been able to keep watching over the years and quote whenever possible. GREAT MOVIE. This movie should the AFIs number 1 because its so friggin high class. The only problem with this movie is you may have trouble seeing it because it was a made for tv movie on a channel that no longer exists. So i dont know how to get this movie id like to buy it for dvd but i cant find it anywhere. I still have it taped from when it was first on you can come over if you want and watch it bute i might be sleeping. this movie rocks and thats basicly all you need to know.'  ...  N   \n",
              "\n",
              "[3 rows x 3 columns]"
            ]
          },
          "metadata": {
            "tags": []
          },
          "execution_count": 24
        }
      ]
    },
    {
      "cell_type": "markdown",
      "metadata": {
        "id": "VyrJ3xAaN56M",
        "colab_type": "text"
      },
      "source": [
        "**False Negative Predictions:**\n",
        "\n",
        "I choose the first three false negative predictions which should be positive but be predicted as negative. \n",
        "\n",
        "As for the first one, the reason I think it was predicted as N was there are some negative words and sentence, such as \"nothing more nothing less\", \"sadly\", \"undermines\", \"a twist ending\", and \"terrorized\". This words have a negive feeling. So the prediction classified it to a negative review.\n",
        "\n",
        "The reason that the second one was classified to the negative review was the same as the first one. Although there are description about how good the movie is. But more words were describing the negative part - the scenes and also, some negative words, \"stupid\" and \"barely\". \n",
        "\n",
        "As for the last one, there are also many negative words, \"horrible ratings\", \"kiddy\", and the description about the problem. \n",
        "\n",
        "To be summurized, I think the main reason that it was predicted as negative was that there were more negative words than the positive words. Although the reviewers' main meaning is to praise these movies, there are some problems and the negative part the reviewer wanted to pointed out. So it was classified to \"N\"."
      ]
    },
    {
      "cell_type": "code",
      "metadata": {
        "colab_type": "code",
        "id": "5J61XQMSCkKm",
        "outputId": "84fd7c97-d162-45ea-af8d-26f960cd533f",
        "colab": {
          "base_uri": "https://localhost:8080/",
          "height": 669
        }
      },
      "source": [
        "diff[diff['preds']=='P'].head(3)"
      ],
      "execution_count": 0,
      "outputs": [
        {
          "output_type": "execute_result",
          "data": {
            "text/html": [
              "<div>\n",
              "<style scoped>\n",
              "    .dataframe tbody tr th:only-of-type {\n",
              "        vertical-align: middle;\n",
              "    }\n",
              "\n",
              "    .dataframe tbody tr th {\n",
              "        vertical-align: top;\n",
              "    }\n",
              "\n",
              "    .dataframe thead th {\n",
              "        text-align: right;\n",
              "    }\n",
              "</style>\n",
              "<table border=\"1\" class=\"dataframe\">\n",
              "  <thead>\n",
              "    <tr style=\"text-align: right;\">\n",
              "      <th></th>\n",
              "      <th>text</th>\n",
              "      <th>class</th>\n",
              "      <th>preds</th>\n",
              "    </tr>\n",
              "  </thead>\n",
              "  <tbody>\n",
              "    <tr>\n",
              "      <th>26</th>\n",
              "      <td>'Val Kilmer solid performance. Dylan McDermott solid performance. Josh Lucas solid performance. Three very engaging actors giving decent performances. The problem is who cares about the plot? John Holmes. Infamous for his well-endowments a drug addict and a guy who despite contracting AIDS continued to make adult films just does not make an intriguing character. The story surrounds the events leading up to and the aftermath of a vicious mass murder that occurred in the late 80s in Los Angelos to which Holmes was linked arrested and charged with murder and who ultimately was acquitted. Just like in the case of O.J. the guilt factor regardless of the outcome ranged quite high in the He did it zone. There is no one to sympathize with in this film as everyone is a self-serving criminal. There is just nothing remotely interesting here.'</td>\n",
              "      <td>N</td>\n",
              "      <td>P</td>\n",
              "    </tr>\n",
              "    <tr>\n",
              "      <th>36</th>\n",
              "      <td>'John Wayne &amp; Albert Dekker compete for oil rights on Indian territory and for the attention of Martha Scott in this Republic Pictures film shot out of Utah USA. An interesting Western of sorts due to its characters and its more modern setting with Wayne &amp; Dekker playing the old and new factions of the West. Its based on a story by Thomson Burtis who co-writes the script along with Eleanore Griffin and Ethel Hill. Albert Rogell directs in the workmanlike way that befits his career. A pretty mundane story is in truth saved by its final third where thankfully the action picks up and we are treated to something resembling a pulse. The light hearted approach to the romantic strand doesnt sit quite right and a glorious fist fight between the two protagonists is ruined by Rogell being unable to disguise the stunt men doing the work. But hey stunt men deserve their moment of glory always. Solid support comes from George Gabby Hayes and Wayne as usual has much screen charisma particularly when rattling off his pistol. But in spite of its better than usual Republic budget it remains a film of interest only to 1940s Wayne enthusiasts. 4/10'</td>\n",
              "      <td>N</td>\n",
              "      <td>P</td>\n",
              "    </tr>\n",
              "    <tr>\n",
              "      <th>174</th>\n",
              "      <td>'On the 26th of September 1983 a short dumpy 60 year old woman stood trial for the attempted murder of Leonie Haddad a lady whose husband had recently died and had agreed to take in a lodger who came via a housing authority for the elderly. Haddad was not made aware that her new lodger had in fact come fresh from The Patton State Mental Hospital where she had been incarcerated for an inexplicable knife attack on a married couple three years previously. Haddad soon realised that something was rotten in Denmark when the woman began to lock herself in the bathroom with a tape recorder reciting prophesies about seven Gods. Haddads fears were confirmed one night when she awoke to find her lodger sitting astride her chest holding a bread knife announcing that God has inspired me to kill you. Haddad managed to knock her assailant out with a telephone but not before she had lost a finger and suffered deep lacerations to her face and chest. It was a miracle she survived. The lodger was judged to be innocent by reason of insanity but sent kicking and screaming back to the laughing academy. Ten years later she was released and found that she was now a celebrity; but not for the brutal attacks on her innocent victims but for her incarnation of 25 years earlier when she was known as the Queen of the Curves the Tennessee Tease and Miss Pin Up Girl of the World - the Notorious Bettie Page.  Director Mary Harron mainly known for American Psycho takes us back to the glory days of a legendary cheesecake and bondage model (played solidly enough by Gretchen Mol) who inadvertently wrote the blue print for fetish iconography and whose influence can be detected in everything from comic books to catwalks. T.N.B.P is day-glo fun ride through an evocative depiction of the 1950s where Page with the familial help of good intentioned boyfriends and photographers becomes the number one star of pocket sized mens glossies with titles like Wink Tab and Parade. Her real dream of movie stardom evades her and a brush with the authorities over obscenity charges in 1957 is the inciting incident which leads her to retire from modelling and give herself to God. The overall style of the film is light and frothy and only darkens momentarily with an allusion to her fathers incestuous attentions and a sexual assault which inexplicably appears to have no discernible effect on her. Mol plays Page as she seems in her photographs happy carefree and fun - even the bondage shots betray little more than a good humoured incomprehensibility. The film ends on the upbeat with Page cheerfully handing out bibles in a park with no indication of the real life unhappy marriages personal tragedy and decent into murderous insanity which lay before her; avoiding what I think is the essential core of Pages story - rebirth and resurrection.  Having emerged from a decade of incarceration Page found that her cult had been in the ascendance since the mid 1980s and that she had become a huge underground icon during which many were asking whatever happened to Bettie Page. Her mysterious disappearance fed the fires of any number of conspiracy theories only adding to the allure of her legend. When the worlds media finally caught up with her she gave no hint of her darker past and she was soon giving interviews for magazines T.V and being photographed at Playboy parties with the likes of Pamela Anderson and the equally tragic Anna Nicole Smith. She found that she was now more famous than she ever was in her glory years but in the glare of this resurrection it was only a matter of time before the full story would come to light.  The only notorious thing about The Notorious Bettie Page is they left out the part when she became truly notorious.'</td>\n",
              "      <td>N</td>\n",
              "      <td>P</td>\n",
              "    </tr>\n",
              "  </tbody>\n",
              "</table>\n",
              "</div>"
            ],
            "text/plain": [
              "                                                                                                                                                                                                                                                                                                                                                                                                                                                                                                                                                                                                                                                                                                                                                                                                                                                                                                                                                                                                                                                                                                                                                                                                                                                                                                                                                                                                                                                                                                                                                                                                                                                                                                                                                                                                                                                                                                                                                                                                                                                                                                                                                                                                                                                                                                                                                                                                                                                                                                                                                                                                                                                                                                                                                                                                                                                                                                                                                                                                                                                                                                                                                                                                                                                                                                                                                                                                                                                                                                                                                                                                                                                                                                                                                                                                                                                                                            text  ... preds\n",
              "26   'Val Kilmer solid performance. Dylan McDermott solid performance. Josh Lucas solid performance. Three very engaging actors giving decent performances. The problem is who cares about the plot? John Holmes. Infamous for his well-endowments a drug addict and a guy who despite contracting AIDS continued to make adult films just does not make an intriguing character. The story surrounds the events leading up to and the aftermath of a vicious mass murder that occurred in the late 80s in Los Angelos to which Holmes was linked arrested and charged with murder and who ultimately was acquitted. Just like in the case of O.J. the guilt factor regardless of the outcome ranged quite high in the He did it zone. There is no one to sympathize with in this film as everyone is a self-serving criminal. There is just nothing remotely interesting here.'                                                                                                                                                                                                                                                                                                                                                                                                                                                                                                                                                                                                                                                                                                                                                                                                                                                                                                                                                                                                                                                                                                                                                                                                                                                                                                                                                                                                                                                                                                                                                                                                                                                                                                                                                                                                                                                                                                                                                                                                                                                                                                                                                                                                                                                                                                                                                                                                                                                                                                                                                                                                                                                                                                                                                                                                                                                                                                                                                                                                                  ...  P   \n",
              "36   'John Wayne & Albert Dekker compete for oil rights on Indian territory and for the attention of Martha Scott in this Republic Pictures film shot out of Utah USA. An interesting Western of sorts due to its characters and its more modern setting with Wayne & Dekker playing the old and new factions of the West. Its based on a story by Thomson Burtis who co-writes the script along with Eleanore Griffin and Ethel Hill. Albert Rogell directs in the workmanlike way that befits his career. A pretty mundane story is in truth saved by its final third where thankfully the action picks up and we are treated to something resembling a pulse. The light hearted approach to the romantic strand doesnt sit quite right and a glorious fist fight between the two protagonists is ruined by Rogell being unable to disguise the stunt men doing the work. But hey stunt men deserve their moment of glory always. Solid support comes from George Gabby Hayes and Wayne as usual has much screen charisma particularly when rattling off his pistol. But in spite of its better than usual Republic budget it remains a film of interest only to 1940s Wayne enthusiasts. 4/10'                                                                                                                                                                                                                                                                                                                                                                                                                                                                                                                                                                                                                                                                                                                                                                                                                                                                                                                                                                                                                                                                                                                                                                                                                                                                                                                                                                                                                                                                                                                                                                                                                                                                                                                                                                                                                                                                                                                                                                                                                                                                                                                                                                                                                                                                                                                                                                                                                                                                                                                                                                                                                                                                                                 ...  P   \n",
              "174  'On the 26th of September 1983 a short dumpy 60 year old woman stood trial for the attempted murder of Leonie Haddad a lady whose husband had recently died and had agreed to take in a lodger who came via a housing authority for the elderly. Haddad was not made aware that her new lodger had in fact come fresh from The Patton State Mental Hospital where she had been incarcerated for an inexplicable knife attack on a married couple three years previously. Haddad soon realised that something was rotten in Denmark when the woman began to lock herself in the bathroom with a tape recorder reciting prophesies about seven Gods. Haddads fears were confirmed one night when she awoke to find her lodger sitting astride her chest holding a bread knife announcing that God has inspired me to kill you. Haddad managed to knock her assailant out with a telephone but not before she had lost a finger and suffered deep lacerations to her face and chest. It was a miracle she survived. The lodger was judged to be innocent by reason of insanity but sent kicking and screaming back to the laughing academy. Ten years later she was released and found that she was now a celebrity; but not for the brutal attacks on her innocent victims but for her incarnation of 25 years earlier when she was known as the Queen of the Curves the Tennessee Tease and Miss Pin Up Girl of the World - the Notorious Bettie Page.  Director Mary Harron mainly known for American Psycho takes us back to the glory days of a legendary cheesecake and bondage model (played solidly enough by Gretchen Mol) who inadvertently wrote the blue print for fetish iconography and whose influence can be detected in everything from comic books to catwalks. T.N.B.P is day-glo fun ride through an evocative depiction of the 1950s where Page with the familial help of good intentioned boyfriends and photographers becomes the number one star of pocket sized mens glossies with titles like Wink Tab and Parade. Her real dream of movie stardom evades her and a brush with the authorities over obscenity charges in 1957 is the inciting incident which leads her to retire from modelling and give herself to God. The overall style of the film is light and frothy and only darkens momentarily with an allusion to her fathers incestuous attentions and a sexual assault which inexplicably appears to have no discernible effect on her. Mol plays Page as she seems in her photographs happy carefree and fun - even the bondage shots betray little more than a good humoured incomprehensibility. The film ends on the upbeat with Page cheerfully handing out bibles in a park with no indication of the real life unhappy marriages personal tragedy and decent into murderous insanity which lay before her; avoiding what I think is the essential core of Pages story - rebirth and resurrection.  Having emerged from a decade of incarceration Page found that her cult had been in the ascendance since the mid 1980s and that she had become a huge underground icon during which many were asking whatever happened to Bettie Page. Her mysterious disappearance fed the fires of any number of conspiracy theories only adding to the allure of her legend. When the worlds media finally caught up with her she gave no hint of her darker past and she was soon giving interviews for magazines T.V and being photographed at Playboy parties with the likes of Pamela Anderson and the equally tragic Anna Nicole Smith. She found that she was now more famous than she ever was in her glory years but in the glare of this resurrection it was only a matter of time before the full story would come to light.  The only notorious thing about The Notorious Bettie Page is they left out the part when she became truly notorious.'  ...  P   \n",
              "\n",
              "[3 rows x 3 columns]"
            ]
          },
          "metadata": {
            "tags": []
          },
          "execution_count": 26
        }
      ]
    },
    {
      "cell_type": "markdown",
      "metadata": {
        "id": "CgWJkNIxSKa8",
        "colab_type": "text"
      },
      "source": [
        "**False Positive Predictions:**\n",
        "\n",
        "The reason why the negative reviews were predicted as positive reviews are also because there are more positive words and description than the negative ones. Although the reviewers' meaning was to point out the disappointing part and at the same time, there are truly some really good scene, performance, and character that could be praised. The model just think more positive words means positive reviews.  So it was classified to the wrong class."
      ]
    },
    {
      "cell_type": "markdown",
      "metadata": {
        "id": "j7T9rDGG3e6Z",
        "colab_type": "text"
      },
      "source": [
        "__4. Improve the accuracy of your model on the test data. Try at least two of the following to do this:__\n",
        "* __Use a non-binary count vectorizer or a tf-idf count vectorizer.__\n",
        "* __Use n-grams.__\n",
        "* __Remove stopwords.__\n",
        "\n",
        "__If you want, you can try other classifiers besides Bernoulli Naive Bayes.__\n",
        "__Please report the accuracies__"
      ]
    },
    {
      "cell_type": "markdown",
      "metadata": {
        "id": "JrUyFuZVYu1z",
        "colab_type": "text"
      },
      "source": [
        "**1. Use tf-idf vectorizer**"
      ]
    },
    {
      "cell_type": "code",
      "metadata": {
        "id": "fH-QvDdkeOrv",
        "colab_type": "code",
        "outputId": "c3244933-69b2-474d-d77a-cb224e5b53b8",
        "colab": {
          "base_uri": "https://localhost:8080/",
          "height": 136
        }
      },
      "source": [
        "from sklearn.feature_extraction.text import TfidfVectorizer\n",
        "cv = TfidfVectorizer()\n",
        "cv.fit(df_imdb_train['text'])"
      ],
      "execution_count": 24,
      "outputs": [
        {
          "output_type": "execute_result",
          "data": {
            "text/plain": [
              "TfidfVectorizer(analyzer='word', binary=False, decode_error='strict',\n",
              "                dtype=<class 'numpy.float64'>, encoding='utf-8',\n",
              "                input='content', lowercase=True, max_df=1.0, max_features=None,\n",
              "                min_df=1, ngram_range=(1, 1), norm='l2', preprocessor=None,\n",
              "                smooth_idf=True, stop_words=None, strip_accents=None,\n",
              "                sublinear_tf=False, token_pattern='(?u)\\\\b\\\\w\\\\w+\\\\b',\n",
              "                tokenizer=None, use_idf=True, vocabulary=None)"
            ]
          },
          "metadata": {
            "tags": []
          },
          "execution_count": 24
        }
      ]
    },
    {
      "cell_type": "code",
      "metadata": {
        "id": "8OovCXrqYTLN",
        "colab_type": "code",
        "colab": {}
      },
      "source": [
        "X_train = cv.transform(df_imdb_train['text'])\n",
        "X_test = cv.transform(df_imdb_test['text'])"
      ],
      "execution_count": 0,
      "outputs": []
    },
    {
      "cell_type": "code",
      "metadata": {
        "id": "AFbkiG5HYedZ",
        "colab_type": "code",
        "outputId": "326cc1ba-a9a9-4fca-aa14-9ba6b809334b",
        "colab": {
          "base_uri": "https://localhost:8080/",
          "height": 34
        }
      },
      "source": [
        "model = BernoulliNB()\n",
        "model.fit(X_train, df_imdb_train['class'])"
      ],
      "execution_count": 26,
      "outputs": [
        {
          "output_type": "execute_result",
          "data": {
            "text/plain": [
              "BernoulliNB(alpha=1.0, binarize=0.0, class_prior=None, fit_prior=True)"
            ]
          },
          "metadata": {
            "tags": []
          },
          "execution_count": 26
        }
      ]
    },
    {
      "cell_type": "code",
      "metadata": {
        "id": "-DE4sHpd8Aar",
        "colab_type": "code",
        "outputId": "f0a54ce9-3745-4db1-9956-9b4a33f90865",
        "colab": {
          "base_uri": "https://localhost:8080/",
          "height": 34
        }
      },
      "source": [
        "from sklearn.metrics import accuracy_score\n",
        "print (\"Accuracy using tf-idf vectorizer on testing = %.4f\" % accuracy_score(model.predict(X_test), df_imdb_test['class']) )"
      ],
      "execution_count": 27,
      "outputs": [
        {
          "output_type": "stream",
          "text": [
            "Accuracy using tf-idf vectorizer on testing = 0.9032\n"
          ],
          "name": "stdout"
        }
      ]
    },
    {
      "cell_type": "markdown",
      "metadata": {
        "id": "5UsyHzb7aSXM",
        "colab_type": "text"
      },
      "source": [
        "**2. Use N-grams**"
      ]
    },
    {
      "cell_type": "code",
      "metadata": {
        "id": "Ok_1aYkJaR4a",
        "colab_type": "code",
        "outputId": "d54442c1-9b66-47fd-db15-f2bf39ce41b4",
        "colab": {
          "base_uri": "https://localhost:8080/",
          "height": 119
        }
      },
      "source": [
        "cvn = CountVectorizer(ngram_range=(1,2))\n",
        "cvn.fit(df_imdb_train['text'])"
      ],
      "execution_count": 28,
      "outputs": [
        {
          "output_type": "execute_result",
          "data": {
            "text/plain": [
              "CountVectorizer(analyzer='word', binary=False, decode_error='strict',\n",
              "                dtype=<class 'numpy.int64'>, encoding='utf-8', input='content',\n",
              "                lowercase=True, max_df=1.0, max_features=None, min_df=1,\n",
              "                ngram_range=(1, 2), preprocessor=None, stop_words=None,\n",
              "                strip_accents=None, token_pattern='(?u)\\\\b\\\\w\\\\w+\\\\b',\n",
              "                tokenizer=None, vocabulary=None)"
            ]
          },
          "metadata": {
            "tags": []
          },
          "execution_count": 28
        }
      ]
    },
    {
      "cell_type": "code",
      "metadata": {
        "id": "1tWbUlhtb2Xq",
        "colab_type": "code",
        "colab": {}
      },
      "source": [
        "X_train_n = cvn.transform(df_imdb_train['text'])\n",
        "X_test_n = cvn.transform(df_imdb_test['text'])"
      ],
      "execution_count": 0,
      "outputs": []
    },
    {
      "cell_type": "code",
      "metadata": {
        "id": "6pduanS-b_J-",
        "colab_type": "code",
        "outputId": "e16850f6-021b-48eb-ac5d-b69665fc7b0e",
        "colab": {
          "base_uri": "https://localhost:8080/",
          "height": 34
        }
      },
      "source": [
        "model_ngrams = BernoulliNB()\n",
        "model_ngrams.fit(X_train_n, df_imdb_train['class'])\n"
      ],
      "execution_count": 30,
      "outputs": [
        {
          "output_type": "execute_result",
          "data": {
            "text/plain": [
              "BernoulliNB(alpha=1.0, binarize=0.0, class_prior=None, fit_prior=True)"
            ]
          },
          "metadata": {
            "tags": []
          },
          "execution_count": 30
        }
      ]
    },
    {
      "cell_type": "code",
      "metadata": {
        "colab_type": "code",
        "outputId": "5c769eaf-b99a-45d6-9705-215c749d1cfc",
        "id": "1AfaoL7a8UXh",
        "colab": {
          "base_uri": "https://localhost:8080/",
          "height": 34
        }
      },
      "source": [
        "from sklearn.metrics import accuracy_score\n",
        "print (\"Accuracy using N-grams on testing = %.4f\" % accuracy_score(model_ngrams.predict(X_test_n), df_imdb_test['class']) )"
      ],
      "execution_count": 31,
      "outputs": [
        {
          "output_type": "stream",
          "text": [
            "Accuracy using N-grams on testing = 0.9880\n"
          ],
          "name": "stdout"
        }
      ]
    },
    {
      "cell_type": "markdown",
      "metadata": {
        "id": "puvWXNbcfU3m",
        "colab_type": "text"
      },
      "source": [
        "**3. Remove stop words**"
      ]
    },
    {
      "cell_type": "code",
      "metadata": {
        "id": "oH5qcWC-fUR5",
        "colab_type": "code",
        "outputId": "9261cc4f-962b-4bfe-c244-4a881e69399f",
        "colab": {
          "base_uri": "https://localhost:8080/",
          "height": 119
        }
      },
      "source": [
        "cv_new = CountVectorizer(stop_words='english')\n",
        "cv_new.fit(df_imdb_train['text'])"
      ],
      "execution_count": 20,
      "outputs": [
        {
          "output_type": "execute_result",
          "data": {
            "text/plain": [
              "CountVectorizer(analyzer='word', binary=False, decode_error='strict',\n",
              "                dtype=<class 'numpy.int64'>, encoding='utf-8', input='content',\n",
              "                lowercase=True, max_df=1.0, max_features=None, min_df=1,\n",
              "                ngram_range=(1, 1), preprocessor=None, stop_words='english',\n",
              "                strip_accents=None, token_pattern='(?u)\\\\b\\\\w\\\\w+\\\\b',\n",
              "                tokenizer=None, vocabulary=None)"
            ]
          },
          "metadata": {
            "tags": []
          },
          "execution_count": 20
        }
      ]
    },
    {
      "cell_type": "code",
      "metadata": {
        "id": "t6-cGbVCfyOx",
        "colab_type": "code",
        "colab": {}
      },
      "source": [
        "X_train_new = cv_new.transform(df_imdb_train['text'])\n",
        "X_test_new = cv_new.transform(df_imdb_test['text'])"
      ],
      "execution_count": 0,
      "outputs": []
    },
    {
      "cell_type": "code",
      "metadata": {
        "id": "Ey3bbY4Sf6lk",
        "colab_type": "code",
        "outputId": "78504df9-63a4-4ca3-adce-10dae4b31348",
        "colab": {
          "base_uri": "https://localhost:8080/",
          "height": 34
        }
      },
      "source": [
        "model_removed = BernoulliNB()\n",
        "model_removed.fit(X_train_new, df_imdb_train['class'])"
      ],
      "execution_count": 22,
      "outputs": [
        {
          "output_type": "execute_result",
          "data": {
            "text/plain": [
              "BernoulliNB(alpha=1.0, binarize=0.0, class_prior=None, fit_prior=True)"
            ]
          },
          "metadata": {
            "tags": []
          },
          "execution_count": 22
        }
      ]
    },
    {
      "cell_type": "code",
      "metadata": {
        "colab_type": "code",
        "outputId": "b533d984-1fd0-47f9-f6d3-dacf0dbfe11c",
        "id": "84saOdad8sHv",
        "colab": {
          "base_uri": "https://localhost:8080/",
          "height": 85
        }
      },
      "source": [
        "print (\"Accuracy using binary vectorizer on testing = %.6f\" % accuracy_score(model_nb.predict(X_test_binary), df_imdb_test['class']) )\n",
        "print (\"Accuracy using tf-idf vectorizer on testing = %.6f\" % accuracy_score(model.predict(X_test), df_imdb_test['class']) )\n",
        "print (\"Accuracy using N-grams on testing = %.6f\" % accuracy_score(model_ngrams.predict(X_test_n), df_imdb_test['class']) )\n",
        "print (\"Accuracy removing stop-words on testing = %.6f\" % accuracy_score(model_removed.predict(X_test_new), df_imdb_test['class']) )"
      ],
      "execution_count": 32,
      "outputs": [
        {
          "output_type": "stream",
          "text": [
            "Accuracy using binary vectorizer on testing = 0.903165\n",
            "Accuracy using tf-idf vectorizer on testing = 0.903165\n",
            "Accuracy using N-grams on testing = 0.987999\n",
            "Accuracy removing stop-words on testing = 0.901988\n"
          ],
          "name": "stdout"
        }
      ]
    },
    {
      "cell_type": "markdown",
      "metadata": {
        "id": "ZzVmIyWvxTMZ",
        "colab_type": "text"
      },
      "source": [
        "The accuracy using N-grams is higher than other methods. Let us try to compare the ROC_curve. "
      ]
    },
    {
      "cell_type": "code",
      "metadata": {
        "id": "k8NDxGoOZjBr",
        "colab_type": "code",
        "outputId": "5435a0e8-ddd8-453d-f7d5-8a7bc7a57157",
        "colab": {
          "base_uri": "https://localhost:8080/",
          "height": 455
        }
      },
      "source": [
        "get_model_roc([model,model_ngrams,model_removed], [X_test,X_test_n,X_test_new], ['tf-idf','n-grams','removing stopwords'], df_imdb_test['class'])\n",
        "# get_model_roc([model_ngrams], [X_test_n], ['Naive Bayes'], df_imdb_test['class'])\n",
        "# get_model_roc([model_removed], [X_test_new], ['Naive Bayes'], df_imdb_test['class'])"
      ],
      "execution_count": 33,
      "outputs": [
        {
          "output_type": "stream",
          "text": [
            "AUC for tf-idf = 0.969\n",
            "AUC for n-grams = 1.000\n",
            "AUC for removing stopwords = 0.970\n"
          ],
          "name": "stdout"
        },
        {
          "output_type": "display_data",
          "data": {
            "image/png": "[encoded data removed]",
            "text/plain": [
              "<Figure size 600x400 with 1 Axes>"
            ]
          },
          "metadata": {
            "tags": [],
            "needs_background": "light"
          }
        }
      ]
    },
    {
      "cell_type": "markdown",
      "metadata": {
        "id": "UFp6zKS4cfHM",
        "colab_type": "text"
      },
      "source": [
        "After comparing the accuracy and roc_curve, the accuracy using n-grams are the highest one."
      ]
    },
    {
      "cell_type": "markdown",
      "metadata": {
        "id": "yGOC5rfd3e6c",
        "colab_type": "text"
      },
      "source": [
        "## Part II: Multi-Class Text Classification"
      ]
    },
    {
      "cell_type": "markdown",
      "metadata": {
        "id": "UOTzezmk3e6d",
        "colab_type": "text"
      },
      "source": [
        "There are lots of applications of text classification in the commercial world. For example, news stories are typically organized by topics; content or products are often tagged by categories; users can be classified into cohorts based on how they talk about a product or brand online. \n",
        "\n",
        "Suppose you've been hired by a finance institution that wants to classify incoming consumer complaints in product categories in order to forward them to the most appropriate customer support agents. You have a sample of the complaints that have been addressed in the past, each of them labeled as one category by the agent that addressed the complaint. Each complaint is assigned to one and only one category. \n",
        "\n",
        "Let's take a look at the data."
      ]
    },
    {
      "cell_type": "markdown",
      "metadata": {
        "id": "zT6BALR93e6e",
        "colab_type": "text"
      },
      "source": [
        "__1. Load the data. No points for this.__"
      ]
    },
    {
      "cell_type": "code",
      "metadata": {
        "id": "_NWojDU63e6f",
        "colab_type": "code",
        "outputId": "ecc17009-0557-45cd-f1c3-a5799780663e",
        "colab": {
          "base_uri": "https://localhost:8080/",
          "height": 204
        }
      },
      "source": [
        "# Remember to change this to the path of your file.\n",
        "complaints_path = 'data/complaints_sample.csv'\n",
        "\n",
        "data = pd.read_csv(complaints_path)\n",
        "data.head()"
      ],
      "execution_count": 0,
      "outputs": [
        {
          "output_type": "execute_result",
          "data": {
            "text/html": [
              "<div>\n",
              "<style scoped>\n",
              "    .dataframe tbody tr th:only-of-type {\n",
              "        vertical-align: middle;\n",
              "    }\n",
              "\n",
              "    .dataframe tbody tr th {\n",
              "        vertical-align: top;\n",
              "    }\n",
              "\n",
              "    .dataframe thead th {\n",
              "        text-align: right;\n",
              "    }\n",
              "</style>\n",
              "<table border=\"1\" class=\"dataframe\">\n",
              "  <thead>\n",
              "    <tr style=\"text-align: right;\">\n",
              "      <th></th>\n",
              "      <th>Consumer complaint narrative</th>\n",
              "      <th>Product</th>\n",
              "    </tr>\n",
              "  </thead>\n",
              "  <tbody>\n",
              "    <tr>\n",
              "      <th>0</th>\n",
              "      <td>This is not a duplicate case. Please escalate ...</td>\n",
              "      <td>Credit card or prepaid card</td>\n",
              "    </tr>\n",
              "    <tr>\n",
              "      <th>1</th>\n",
              "      <td>I reported the problem to Money gram agent. wo...</td>\n",
              "      <td>Money transfer, virtual currency, or money ser...</td>\n",
              "    </tr>\n",
              "    <tr>\n",
              "      <th>2</th>\n",
              "      <td>Medical debt is not mine, debt is my sons who ...</td>\n",
              "      <td>Debt collection</td>\n",
              "    </tr>\n",
              "    <tr>\n",
              "      <th>3</th>\n",
              "      <td>Someone called me yesterday morning, XX/XX/201...</td>\n",
              "      <td>Debt collection</td>\n",
              "    </tr>\n",
              "    <tr>\n",
              "      <th>4</th>\n",
              "      <td>This is a debt with Conn 's - I am not 30 days...</td>\n",
              "      <td>Debt collection</td>\n",
              "    </tr>\n",
              "  </tbody>\n",
              "</table>\n",
              "</div>"
            ],
            "text/plain": [
              "                        Consumer complaint narrative                                            Product\n",
              "0  This is not a duplicate case. Please escalate ...                        Credit card or prepaid card\n",
              "1  I reported the problem to Money gram agent. wo...  Money transfer, virtual currency, or money ser...\n",
              "2  Medical debt is not mine, debt is my sons who ...                                    Debt collection\n",
              "3  Someone called me yesterday morning, XX/XX/201...                                    Debt collection\n",
              "4  This is a debt with Conn 's - I am not 30 days...                                    Debt collection"
            ]
          },
          "metadata": {
            "tags": []
          },
          "execution_count": 33
        }
      ]
    },
    {
      "cell_type": "markdown",
      "metadata": {
        "id": "SdIWUuOJ3e6i",
        "colab_type": "text"
      },
      "source": [
        "__2. Print how many complaints there are for each product category.__"
      ]
    },
    {
      "cell_type": "code",
      "metadata": {
        "id": "grnuy-MN3e6i",
        "colab_type": "code",
        "outputId": "1d28df02-3c01-49e1-c4eb-94f15bbe6328",
        "colab": {
          "base_uri": "https://localhost:8080/",
          "height": 421
        }
      },
      "source": [
        "# Your answer here.\n",
        "data.groupby(data['Product']).count()"
      ],
      "execution_count": 0,
      "outputs": [
        {
          "output_type": "execute_result",
          "data": {
            "text/html": [
              "<div>\n",
              "<style scoped>\n",
              "    .dataframe tbody tr th:only-of-type {\n",
              "        vertical-align: middle;\n",
              "    }\n",
              "\n",
              "    .dataframe tbody tr th {\n",
              "        vertical-align: top;\n",
              "    }\n",
              "\n",
              "    .dataframe thead th {\n",
              "        text-align: right;\n",
              "    }\n",
              "</style>\n",
              "<table border=\"1\" class=\"dataframe\">\n",
              "  <thead>\n",
              "    <tr style=\"text-align: right;\">\n",
              "      <th></th>\n",
              "      <th>Consumer complaint narrative</th>\n",
              "    </tr>\n",
              "    <tr>\n",
              "      <th>Product</th>\n",
              "      <th></th>\n",
              "    </tr>\n",
              "  </thead>\n",
              "  <tbody>\n",
              "    <tr>\n",
              "      <th>Bank account or service</th>\n",
              "      <td>2985</td>\n",
              "    </tr>\n",
              "    <tr>\n",
              "      <th>Checking or savings account</th>\n",
              "      <td>2485</td>\n",
              "    </tr>\n",
              "    <tr>\n",
              "      <th>Consumer Loan</th>\n",
              "      <td>1868</td>\n",
              "    </tr>\n",
              "    <tr>\n",
              "      <th>Credit card or prepaid card</th>\n",
              "      <td>8333</td>\n",
              "    </tr>\n",
              "    <tr>\n",
              "      <th>Credit reporting, credit repair services, or other personal consumer reports</th>\n",
              "      <td>24401</td>\n",
              "    </tr>\n",
              "    <tr>\n",
              "      <th>Debt collection</th>\n",
              "      <td>17065</td>\n",
              "    </tr>\n",
              "    <tr>\n",
              "      <th>Money transfer, virtual currency, or money service</th>\n",
              "      <td>1345</td>\n",
              "    </tr>\n",
              "    <tr>\n",
              "      <th>Mortgage</th>\n",
              "      <td>10552</td>\n",
              "    </tr>\n",
              "    <tr>\n",
              "      <th>Payday loan, title loan, or personal loan</th>\n",
              "      <td>1223</td>\n",
              "    </tr>\n",
              "    <tr>\n",
              "      <th>Student loan</th>\n",
              "      <td>4184</td>\n",
              "    </tr>\n",
              "    <tr>\n",
              "      <th>Vehicle loan or lease</th>\n",
              "      <td>1134</td>\n",
              "    </tr>\n",
              "  </tbody>\n",
              "</table>\n",
              "</div>"
            ],
            "text/plain": [
              "                                                    Consumer complaint narrative\n",
              "Product                                                                         \n",
              "Bank account or service                                                     2985\n",
              "Checking or savings account                                                 2485\n",
              "Consumer Loan                                                               1868\n",
              "Credit card or prepaid card                                                 8333\n",
              "Credit reporting, credit repair services, or ot...                         24401\n",
              "Debt collection                                                            17065\n",
              "Money transfer, virtual currency, or money service                          1345\n",
              "Mortgage                                                                   10552\n",
              "Payday loan, title loan, or personal loan                                   1223\n",
              "Student loan                                                                4184\n",
              "Vehicle loan or lease                                                       1134"
            ]
          },
          "metadata": {
            "tags": []
          },
          "execution_count": 34
        }
      ]
    },
    {
      "cell_type": "markdown",
      "metadata": {
        "id": "otd_B6CP3e6k",
        "colab_type": "text"
      },
      "source": [
        "__3. Split the data into a training and a test set. Build a logistic regression model to classify complaints according to product categories. Report its accuracy when applied to the test set. Why is this number relatively low compared to the binary accuracy in Part I? HINT: You may want to use [factorize](https://pandas.pydata.org/pandas-docs/stable/reference/api/pandas.factorize.html) to transform the target variable into a categorical variable. Take a look at the sample code below.__"
      ]
    },
    {
      "cell_type": "code",
      "metadata": {
        "id": "6LkzNrXU3e6l",
        "colab_type": "code",
        "colab": {}
      },
      "source": [
        "# Example of how to transform a text variable into a categorical variable\n",
        "Y, cat_names = data['Product'].factorize() "
      ],
      "execution_count": 0,
      "outputs": []
    },
    {
      "cell_type": "code",
      "metadata": {
        "id": "-2SKBw1mpoTe",
        "colab_type": "code",
        "colab": {}
      },
      "source": [
        "data['cat_names'] = Y"
      ],
      "execution_count": 0,
      "outputs": []
    },
    {
      "cell_type": "code",
      "metadata": {
        "id": "lg1plMP13e6n",
        "colab_type": "code",
        "colab": {}
      },
      "source": [
        "# Your answer here.\n",
        "from sklearn.model_selection import train_test_split\n",
        "train, test = train_test_split(data, test_size=0.2)"
      ],
      "execution_count": 0,
      "outputs": []
    },
    {
      "cell_type": "code",
      "metadata": {
        "colab_type": "code",
        "outputId": "02f5dcee-6a27-48da-8502-ec7df2b0cdc3",
        "id": "y9sSvy5mqf2-",
        "colab": {
          "base_uri": "https://localhost:8080/",
          "height": 119
        }
      },
      "source": [
        "cv_part2 = CountVectorizer()\n",
        "cv_part2.fit(train['Consumer complaint narrative'])"
      ],
      "execution_count": 0,
      "outputs": [
        {
          "output_type": "execute_result",
          "data": {
            "text/plain": [
              "CountVectorizer(analyzer='word', binary=False, decode_error='strict',\n",
              "                dtype=<class 'numpy.int64'>, encoding='utf-8', input='content',\n",
              "                lowercase=True, max_df=1.0, max_features=None, min_df=1,\n",
              "                ngram_range=(1, 1), preprocessor=None, stop_words=None,\n",
              "                strip_accents=None, token_pattern='(?u)\\\\b\\\\w\\\\w+\\\\b',\n",
              "                tokenizer=None, vocabulary=None)"
            ]
          },
          "metadata": {
            "tags": []
          },
          "execution_count": 38
        }
      ]
    },
    {
      "cell_type": "code",
      "metadata": {
        "colab_type": "code",
        "id": "HWacsJX6q-kr",
        "colab": {}
      },
      "source": [
        "X_train_2 = cv_part2.transform(train['Consumer complaint narrative'])\n",
        "X_test_2 = cv_part2.transform(test['Consumer complaint narrative'])"
      ],
      "execution_count": 0,
      "outputs": []
    },
    {
      "cell_type": "code",
      "metadata": {
        "id": "LPdvoxCErgU5",
        "colab_type": "code",
        "outputId": "8651eb6a-93cf-4081-c98b-f36813ee9d30",
        "colab": {
          "base_uri": "https://localhost:8080/",
          "height": 102
        }
      },
      "source": [
        "from sklearn.linear_model import LogisticRegression\n",
        "\n",
        "log_model = LogisticRegression(max_iter=5000)\n",
        "log_model.fit(X_train_2, train['cat_names'])"
      ],
      "execution_count": 0,
      "outputs": [
        {
          "output_type": "execute_result",
          "data": {
            "text/plain": [
              "LogisticRegression(C=1.0, class_weight=None, dual=False, fit_intercept=True,\n",
              "                   intercept_scaling=1, l1_ratio=None, max_iter=5000,\n",
              "                   multi_class='auto', n_jobs=None, penalty='l2',\n",
              "                   random_state=None, solver='lbfgs', tol=0.0001, verbose=0,\n",
              "                   warm_start=False)"
            ]
          },
          "metadata": {
            "tags": []
          },
          "execution_count": 40
        }
      ]
    },
    {
      "cell_type": "code",
      "metadata": {
        "id": "KIeVYveZx236",
        "colab_type": "code",
        "outputId": "6f8d35e8-64e5-46f2-d508-dabba2864c34",
        "colab": {
          "base_uri": "https://localhost:8080/",
          "height": 34
        }
      },
      "source": [
        "from sklearn.metrics import accuracy_score\n",
        "print (\"Accuracy on testing = %.4f\" % accuracy_score(log_model.predict(X_test_2), test['cat_names']) )"
      ],
      "execution_count": 0,
      "outputs": [
        {
          "output_type": "stream",
          "text": [
            "Accuracy on testing = 0.7640\n"
          ],
          "name": "stdout"
        }
      ]
    },
    {
      "cell_type": "markdown",
      "metadata": {
        "id": "sg922SPTzzIg",
        "colab_type": "text"
      },
      "source": [
        "Why is this number relatively low compared to the binary accuracy in Part I?\n",
        "\n",
        "Because there are more catetories than the binary one. And in each class, it is not balanced."
      ]
    },
    {
      "cell_type": "markdown",
      "metadata": {
        "id": "kP-q7-oJ3e6q",
        "colab_type": "text"
      },
      "source": [
        "__4. Make a confusion matrix that shows the errors made by your model. Use the test set labels and your predictions for the test set to build the matrix. Plot the confusion matrix using a Seaborn heatmap. What would perfect predictions look like? Give an example of one systematic type of error that you see. How can you tell that this is a systematic error? Why do you think such errors occur? HINT: Below there is code building and plotting a confusion matrix using the entire data and random predictions. The code removes the diagonal to highlight prediction errors.__"
      ]
    },
    {
      "cell_type": "code",
      "metadata": {
        "id": "FOg1drZJ3e6r",
        "colab_type": "code",
        "outputId": "469bdc07-df84-4baf-ab11-3bc2bbff8d70",
        "colab": {
          "base_uri": "https://localhost:8080/",
          "height": 435
        }
      },
      "source": [
        "from sklearn.metrics import confusion_matrix\n",
        "import seaborn as sns\n",
        "import numpy as np\n",
        "%matplotlib inline\n",
        "import matplotlib.pylab as plt\n",
        "\n",
        "\n",
        "tick_labels = [c[:30] for c in cat_names]\n",
        "def plot_matrix(mat, title, remove_diagonal=True):\n",
        "    error_mat = mat.copy()\n",
        "    if remove_diagonal:\n",
        "        diag_ixs = np.arange(mat.shape[0])\n",
        "        error_mat[diag_ixs, diag_ixs] = 0\n",
        "    sns.heatmap(error_mat, annot=True, fmt='d', yticklabels=tick_labels, xticklabels=tick_labels)\n",
        "    plt.ylabel('Predictions')\n",
        "    plt.xlabel('True labels')\n",
        "    plt.title(title)\n",
        "\n",
        "random_predictions = np.random.choice(range(len(cat_names)), len(Y))\n",
        "random_conf_mat = confusion_matrix(log_model.predict(X_test_2), test['cat_names'])\n",
        "plot_matrix(random_conf_mat, 'Error Matrix', remove_diagonal=True)"
      ],
      "execution_count": 0,
      "outputs": [
        {
          "output_type": "display_data",
          "data": {
            "image/png": "[encoded data removed]",
            "text/plain": [
              "<Figure size 432x288 with 2 Axes>"
            ]
          },
          "metadata": {
            "tags": [],
            "needs_background": "light"
          }
        }
      ]
    },
    {
      "cell_type": "markdown",
      "metadata": {
        "id": "YH_CTtjVonoa",
        "colab_type": "text"
      },
      "source": [
        "The number in the Error Matrix of perfect prediction will be about to 0 in every area. \n",
        "\n",
        "Different from random error, the systematic error is the errors that the human-being could not avoid. \n",
        "\n",
        "I think the systematic error in this case is the misclassification of 'debet collection' and 'Credit reporting, credit repair services, or other personal consumer reports'. \t"
      ]
    },
    {
      "cell_type": "markdown",
      "metadata": {
        "id": "Wv2C23tB3e6w",
        "colab_type": "text"
      },
      "source": [
        "__5. Suppose that the priority level of complaints varies by product category. You know that higher priority complaints need to be addressed faster. You also know that complaints incorrectly classified by the model will be given the correct classification (and therefore also the correct priority) by the first agent to which the complaint is assigned. If the agent has no knowledge about the product category of the complaint, he/she can forward the complaint to someone else. This is how priority level varies by product:__\n",
        "\n",
        "__High priority__\n",
        "* 'Money transfer, virtual currency, or money service'\n",
        "* 'Bank account or service'\n",
        "* 'Checking or savings account'\n",
        "\n",
        "__Normal priority__\n",
        "* 'Credit card or prepaid card'\n",
        "* 'Mortgage'\n",
        "* 'Student loan'\n",
        "* 'Consumer Loan'\n",
        "* 'Payday loan, title loan, or personal loan'\n",
        "* 'Vehicle loan or lease'\n",
        "\n",
        "__Low priority__\n",
        "* 'Credit reporting, credit repair services, or other personal consumer reports'\n",
        "* 'Debt collection'\n",
        "\n",
        "__Below you will find three cost matrices. Compute the total cost of your model according to each of them. If you were to compare multiple models, which cost matrix do you think would be better to compare the models? Why? Would you consider making any modifications to the cost matrix that you chose? If so, explain what would you consider changing and why. HINT: Below there is a sample code of how to compute the total cost of the random predictions.__"
      ]
    },
    {
      "cell_type": "code",
      "metadata": {
        "id": "paVBSTPf3e6x",
        "colab_type": "code",
        "outputId": "b2688a6d-f6bf-4e57-dff2-e72b66029a46",
        "colab": {
          "base_uri": "https://localhost:8080/",
          "height": 435
        }
      },
      "source": [
        "cost_matrix_1 = np.array([[0, 1, 1, 1, 1, 1, 1, 1, 1, 1, 1],\n",
        "                          [1, 0, 1, 1, 1, 1, 1, 1, 1, 1, 1],\n",
        "                          [1, 1, 0, 1, 1, 1, 1, 1, 1, 1, 1],\n",
        "                          [1, 1, 1, 0, 1, 1, 1, 1, 1, 1, 1],\n",
        "                          [1, 1, 1, 1, 0, 1, 1, 1, 1, 1, 1],\n",
        "                          [1, 1, 1, 1, 1, 0, 1, 1, 1, 1, 1],\n",
        "                          [1, 1, 1, 1, 1, 1, 0, 1, 1, 1, 1],\n",
        "                          [1, 1, 1, 1, 1, 1, 1, 0, 1, 1, 1],\n",
        "                          [1, 1, 1, 1, 1, 1, 1, 1, 0, 1, 1],\n",
        "                          [1, 1, 1, 1, 1, 1, 1, 1, 1, 0, 1],\n",
        "                          [1, 1, 1, 1, 1, 1, 1, 1, 1, 1, 0]])\n",
        "plot_matrix(cost_matrix_1, 'Cost Matrix 1')"
      ],
      "execution_count": 0,
      "outputs": [
        {
          "output_type": "display_data",
          "data": {
            "image/png": "[encoded data removed]",
            "text/plain": [
              "<Figure size 432x288 with 2 Axes>"
            ]
          },
          "metadata": {
            "tags": [],
            "needs_background": "light"
          }
        }
      ]
    },
    {
      "cell_type": "code",
      "metadata": {
        "id": "3H6MRvtD3e6z",
        "colab_type": "code",
        "outputId": "f4f81ebc-a0b6-4bce-9bdd-2812be1b1679",
        "colab": {
          "base_uri": "https://localhost:8080/",
          "height": 435
        }
      },
      "source": [
        "cost_matrix_2 = np.array([[0, 1, 2, 1, 2, 1, 1, 1, 1, 1, 1],\n",
        "                          [2, 0, 3, 1, 3, 2, 2, 1, 2, 2, 2],\n",
        "                          [1, 1, 0, 1, 1, 1, 1, 1, 1, 1, 1],\n",
        "                          [2, 1, 3, 0, 3, 2, 2, 1, 2, 2, 2],\n",
        "                          [1, 1, 1, 1, 0, 1, 1, 1, 1, 1, 1],\n",
        "                          [1, 1, 2, 1, 2, 0, 1, 1, 1, 1, 1],\n",
        "                          [1, 1, 2, 1, 2, 1, 0, 1, 1, 1, 1],\n",
        "                          [2, 1, 3, 1, 3, 2, 2, 0, 2, 2, 2],\n",
        "                          [1, 1, 2, 1, 2, 1, 1, 1, 0, 1, 1],\n",
        "                          [1, 1, 2, 1, 2, 1, 1, 1, 1, 0, 1],\n",
        "                          [1, 1, 2, 1, 2, 1, 1, 1, 1, 1, 0]])\n",
        "plot_matrix(cost_matrix_2, 'Cost Matrix 2')"
      ],
      "execution_count": 0,
      "outputs": [
        {
          "output_type": "display_data",
          "data": {
            "image/png": "[encoded data removed]",
            "text/plain": [
              "<Figure size 432x288 with 2 Axes>"
            ]
          },
          "metadata": {
            "tags": [],
            "needs_background": "light"
          }
        }
      ]
    },
    {
      "cell_type": "code",
      "metadata": {
        "id": "lfO5kkUE3e60",
        "colab_type": "code",
        "outputId": "1e94aa98-9abc-47f9-f629-2af337d93389",
        "colab": {
          "base_uri": "https://localhost:8080/",
          "height": 435
        }
      },
      "source": [
        "cost_matrix_3 = np.array([[0, 2, 2, 2, 2, 1, 1, 2, 1, 1, 1],\n",
        "                          [2, 0, 3, 1, 3, 2, 2, 1, 2, 2, 2],\n",
        "                          [2, 3, 0, 3, 1, 2, 2, 3, 2, 2, 2],\n",
        "                          [2, 1, 3, 0, 3, 2, 2, 1, 2, 2, 2],\n",
        "                          [2, 3, 1, 3, 0, 2, 2, 3, 2, 2, 2],\n",
        "                          [1, 2, 2, 2, 2, 0, 1, 2, 1, 1, 1],\n",
        "                          [1, 2, 2, 2, 2, 1, 0, 2, 1, 1, 1],\n",
        "                          [2, 1, 3, 1, 3, 2, 2, 0, 2, 2, 2],\n",
        "                          [1, 2, 2, 2, 2, 1, 1, 2, 0, 1, 1],\n",
        "                          [1, 2, 2, 2, 2, 1, 1, 2, 1, 0, 1],\n",
        "                          [1, 2, 2, 2, 2, 1, 1, 2, 1, 1, 0]])\n",
        "plot_matrix(cost_matrix_3, 'Cost Matrix 3')"
      ],
      "execution_count": 0,
      "outputs": [
        {
          "output_type": "display_data",
          "data": {
            "image/png": "[encoded data removed]",
            "text/plain": [
              "<Figure size 432x288 with 2 Axes>"
            ]
          },
          "metadata": {
            "tags": [],
            "needs_background": "light"
          }
        }
      ]
    },
    {
      "cell_type": "code",
      "metadata": {
        "id": "1C0yIsgk3e62",
        "colab_type": "code",
        "outputId": "567c4044-d0a1-4f21-9e68-0dc70b95a272",
        "colab": {
          "base_uri": "https://localhost:8080/",
          "height": 68
        }
      },
      "source": [
        "# Replace random_conf_mat with the confusion matrix you generated in the last question.\n",
        "\n",
        "print(\"Cost with matrix 1: \", (random_conf_mat * cost_matrix_1).sum())\n",
        "print(\"Cost with matrix 2: \", (random_conf_mat * cost_matrix_2).sum())\n",
        "print(\"Cost with matrix 3: \", (random_conf_mat * cost_matrix_3).sum())"
      ],
      "execution_count": 0,
      "outputs": [
        {
          "output_type": "stream",
          "text": [
            "Cost with matrix 1:  3567\n",
            "Cost with matrix 2:  4410\n",
            "Cost with matrix 3:  5677\n"
          ],
          "name": "stdout"
        }
      ]
    },
    {
      "cell_type": "markdown",
      "metadata": {
        "id": "lYsYVPfvDwDG",
        "colab_type": "text"
      },
      "source": [
        "The first cost matrix do not consider about the different priority of different class. And after comparing the second and the third matrix, I think the third one is better since it is more balanced and symmetrical. And after adding the cost of all priority level, only the third one corresponds to the real priority situation. \n",
        "\n",
        "I think the third one is perfect and I do not need to make any changes to the third one.\n",
        "\n",
        "My trial changes is below(I changed the weight according to the priority level and build a new weighted- logistic regression model):\n",
        "\n"
      ]
    },
    {
      "cell_type": "code",
      "metadata": {
        "id": "5dOVEMoH3e65",
        "colab_type": "code",
        "outputId": "0a0b8036-4421-44b4-c98e-7bb92e2d1463",
        "colab": {
          "base_uri": "https://localhost:8080/",
          "height": 68
        }
      },
      "source": [
        "class_weight = {0:2, 1:3, 2:1, 3:3, 4:1, 5:2, 6:3, 7:2, 8:2, 9:2, 10:2} # according to the priority level\n",
        "log_model_new = LogisticRegression(class_weight=class_weight,max_iter=5000) #I changed the class_weight parameter in the log_model\n",
        "log_model_new.fit(X_train_2, train['cat_names']) \n",
        "random_conf_mat = confusion_matrix(log_model_new.predict(X_test_2), test['cat_names'])\n",
        "print(\"Cost with matrix 1: \", (random_conf_mat * cost_matrix_1).sum())\n",
        "print(\"Cost with matrix 2: \", (random_conf_mat * cost_matrix_2).sum())\n",
        "print(\"Cost with matrix 3: \", (random_conf_mat * cost_matrix_3).sum())"
      ],
      "execution_count": 0,
      "outputs": [
        {
          "output_type": "stream",
          "text": [
            "Cost with matrix 1:  3653\n",
            "Cost with matrix 2:  4739\n",
            "Cost with matrix 3:  5851\n"
          ],
          "name": "stdout"
        }
      ]
    }
  ]
}